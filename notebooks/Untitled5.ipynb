{
 "cells": [
  {
   "cell_type": "code",
   "execution_count": null,
   "id": "9bd78a3a-2b34-46a1-8bc3-553b55f4a249",
   "metadata": {},
   "outputs": [],
   "source": [
    "'''\n",
    "for i in range(8,9):\n",
    "    if i<10:\n",
    "        url=\"https://oceandata.sci.gsfc.nasa.gov/cgi/getfile/AQUA_MODIS.2019070\"+str(i)+\".L3m.DAY.SST.sst.4km.nc\"\n",
    "    else:\n",
    "        url=\"https://oceandata.sci.gsfc.nasa.gov/cgi/getfile/AQUA_MODIS.201907\"+str(i)+\".L3m.DAY.SST.sst.4km.nc\"\n",
    "    file = pooch.retrieve(url,processor=None,known_hash=None)\n",
    "'''    \n",
    "        "
   ]
  },
  {
   "cell_type": "code",
   "execution_count": null,
   "id": "f0075ee0-4717-48e5-b702-23c2b2ebc3ef",
   "metadata": {},
   "outputs": [],
   "source": [
    "'''\n",
    "def file_load(i):\n",
    "    dir='/Users/skerhalkar/Documents/Python Crap/Python-2/requested_files/AQUA_MODIS.201907'\n",
    "    \n",
    "    if i<10:\n",
    "            ds=xr.open_dataset(dir+'0'+str(i)+'.L3m.DAY.SST.x_sst.nc')\n",
    "    else:\n",
    "            ds=xr.open_dataset(dir+str(i)+'.L3m.DAY.SST.x_sst.nc')\n",
    "    \n",
    "    return(ds)\n",
    "'''"
   ]
  },
  {
   "cell_type": "code",
   "execution_count": null,
   "id": "a924ec71-6cdb-481e-8447-83bea88a0847",
   "metadata": {},
   "outputs": [],
   "source": [
    "ds = []\n",
    "for fname in glob(path):\n",
    "    dsi = xr.open_dataset(fname)\n",
    "    dsi = dsi.assign_coords(time=parser.parse(fname.split('/')[-1].split('.')[1])).expand_dims('time')\n",
    "    # dsi = dsi.sel(lon=slice(),lat=slice())\n",
    "    ds.append(dsi)\n",
    "ds = xr.concat(ds,dim='time')"
   ]
  },
  {
   "cell_type": "code",
   "execution_count": null,
   "id": "51481739-00b3-434a-b0bc-656e743e13ca",
   "metadata": {},
   "outputs": [],
   "source": [
    "ds = xr.open_mfdataset()"
   ]
  },
  {
   "cell_type": "code",
   "execution_count": null,
   "id": "1461b19c-310c-4d0c-9d0f-ec66654aef25",
   "metadata": {},
   "outputs": [],
   "source": [
    "ds.sst.mean('time').plot(robust=True)"
   ]
  },
  {
   "cell_type": "code",
   "execution_count": null,
   "id": "1ab1fbdf-46e0-4d8b-b742-ffc8eb88b837",
   "metadata": {},
   "outputs": [],
   "source": [
    "dsi = xr.open_dataset(fname)"
   ]
  },
  {
   "cell_type": "code",
   "execution_count": null,
   "id": "d8eab58d-7f06-456b-b71d-5fd944086057",
   "metadata": {},
   "outputs": [],
   "source": [
    "dsi.assign_coords(time=parser.parse(fname.split('/')[-1].split('.')[1])).expand_dims('time')"
   ]
  },
  {
   "cell_type": "code",
   "execution_count": null,
   "id": "2d445c17-59ba-4e80-b492-faf36b5c38ba",
   "metadata": {},
   "outputs": [],
   "source": [
    "parser.parse(fname.split('/')[-1].split('.')[1])"
   ]
  },
  {
   "cell_type": "code",
   "execution_count": null,
   "id": "c30514fe-8f98-4fe4-9829-182f862a3be2",
   "metadata": {},
   "outputs": [],
   "source": [
    "ds=file_load(15)\n",
    "ds`"
   ]
  },
  {
   "cell_type": "code",
   "execution_count": 2,
   "id": "35a4137a-f311-4ac2-b5a0-338c78d61bcc",
   "metadata": {},
   "outputs": [],
   "source": [
    "'''\n",
    "cs = (\n",
    "    ds.sla.squeeze()\n",
    "    .sel(latitude=slice(15,20))\n",
    "    .plot.contourf(ax=ax,levels=levels,extend='both', transform=ccrs.PlateCarree())\n",
    ")\n",
    "'''"
   ]
  }
 ],
 "metadata": {
  "kernelspec": {
   "display_name": "Python 3 (ipykernel)",
   "language": "python",
   "name": "python3"
  },
  "language_info": {
   "codemirror_mode": {
    "name": "ipython",
    "version": 3
   },
   "file_extension": ".py",
   "mimetype": "text/x-python",
   "name": "python",
   "nbconvert_exporter": "python",
   "pygments_lexer": "ipython3",
   "version": "3.9.7"
  }
 },
 "nbformat": 4,
 "nbformat_minor": 5
}
