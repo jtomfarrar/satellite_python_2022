{
 "cells": [
  {
   "cell_type": "code",
   "execution_count": 48,
   "id": "183b121f-efa4-46cf-a8f5-54de09f5900e",
   "metadata": {},
   "outputs": [],
   "source": [
    "from ascat_averaged import ASCATAveraged\n",
    "import sys"
   ]
  },
  {
   "cell_type": "code",
   "execution_count": 49,
   "id": "f9bbb77a-db0e-48b2-828c-93ceac1830f7",
   "metadata": {},
   "outputs": [],
   "source": [
    "def read_data(filename='ascatc_20190731_v02.1_3day.gz'):\n",
    "    dataset = ASCATAveraged(filename)\n",
    "    if not dataset.variables: sys.exit('file not found')\n",
    "    return dataset"
   ]
  },
  {
   "cell_type": "code",
   "execution_count": 51,
   "id": "0838f5ca-1dea-4d5a-972f-6aa3230276e5",
   "metadata": {},
   "outputs": [
    {
     "data": {
      "text/plain": [
       "OrderedDict()"
      ]
     },
     "execution_count": 51,
     "metadata": {},
     "output_type": "execute_result"
    }
   ],
   "source": [
    "dataset.variables"
   ]
  },
  {
   "cell_type": "code",
   "execution_count": 55,
   "id": "16f0f3ff-057e-40d2-a5c4-ce3dc6ddc737",
   "metadata": {},
   "outputs": [],
   "source": [
    " ds = ASCATAveraged('ascatc_20190731_v02.1_3day')"
   ]
  },
  {
   "cell_type": "code",
   "execution_count": 58,
   "id": "baea25ae-f113-4dd5-acfd-72ccd67cf25d",
   "metadata": {},
   "outputs": [
    {
     "data": {
      "text/plain": [
       "<ascat_averaged.ASCATAveraged at 0x7f8106d02e50>"
      ]
     },
     "execution_count": 58,
     "metadata": {},
     "output_type": "execute_result"
    }
   ],
   "source": [
    "ds"
   ]
  },
  {
   "cell_type": "code",
   "execution_count": 60,
   "id": "445b6111-3a18-47ce-b176-39237b00e866",
   "metadata": {},
   "outputs": [],
   "source": [
    "for var in ds.variables:\n",
    "    aline = ' '.join([' '*3, var, ':', ds.variables[var].long_name])\n",
    "    print(aline)"
   ]
  },
  {
   "cell_type": "code",
   "execution_count": 61,
   "id": "ec4a5dd0-32c7-4777-be6a-3df16a6265c8",
   "metadata": {},
   "outputs": [],
   "source": [
    "def show_dimensions(ds):\n",
    "    print('')\n",
    "    print('Dimensions')\n",
    "    for dim in ds.dimensions:\n",
    "        aline = ' '.join([' '*3, dim, ':', str(ds.dimensions[dim])])\n",
    "        print(aline)\n",
    "\n",
    "def show_variables(ds):\n",
    "    print('')\n",
    "    print('Variables:')\n",
    "    for var in ds.variables:\n",
    "        aline = ' '.join([' '*3, var, ':', ds.variables[var].long_name])\n",
    "        print(aline)\n",
    "\n",
    "def show_validrange(ds):\n",
    "    print('')\n",
    "    print('Valid min and max and units:')\n",
    "    for var in ds.variables:\n",
    "        aline = ' '.join([' '*3, var, ':',\n",
    "                str(ds.variables[var].valid_min), 'to',\n",
    "                str(ds.variables[var].valid_max),\n",
    "                '(',ds.variables[var].units,')'])\n",
    "        print(aline)\n",
    "\n",
    "def set_image(vmin,vmax,extent):\n",
    "    myimage = {}\n",
    "    myimage['origin'] = 'lower' \n",
    "    myimage['vmin'] = vmin\n",
    "    myimage['vmax'] = vmax\n",
    "    myimage['extent'] = extent\n",
    "    myimage['interpolation'] = 'nearest'\n",
    "    return myimage\n",
    "\n",
    "def quikquiv(plt,lon,lat,u,v,scale,region,color):    \n",
    "    # selecting the sub-region is not necessary,\n",
    "    # but it greatly reduces time needed to render plot   \n",
    "    ilon1,ilon2,ilat1,ilat2 = region\n",
    "    xx = lon[ilon1:ilon2+1]\n",
    "    yy = lat[ilat1:ilat2+1]\n",
    "    uu = u[ilat1:ilat2+1,ilon1:ilon2+1]\n",
    "    vv = v[ilat1:ilat2+1,ilon1:ilon2+1]\n",
    "    plt.quiver(xx,yy,uu,vv,scale=scale,color=color) \n",
    "\n",
    "def show_plotexample(dataset, figname='plot_example.png'):\n",
    "    print('')\n",
    "    print('Plot example:')\n",
    "\n",
    "    # modules needed for this example:\n",
    "    import numpy as np\n",
    "    import pylab as plt\n",
    "    from matplotlib import cm\n",
    "\n",
    "    # here is the data I will use:\n",
    "    wspd = dataset.variables[wspdname][iasc,:,:]\n",
    "    wdir = dataset.variables[wdirname][iasc,:,:]\n",
    "    land = dataset.variables['land'][iasc,:,:]\n",
    "\n",
    "    # get lon/lat:\n",
    "    lon = dataset.variables['longitude']\n",
    "    lat = dataset.variables['latitude']\n",
    "\n",
    "    # get metadata:\n",
    "    name = dataset.variables[wspdname].long_name\n",
    "    units = dataset.variables[wspdname].units\n",
    "    vmin = dataset.variables[wspdname].valid_min\n",
    "    vmax = dataset.variables[wspdname].valid_max\n",
    "\n",
    "    # get extent of dataset:    \n",
    "    extent = []\n",
    "    extent.append(dataset.variables['longitude'].valid_min)\n",
    "    extent.append(dataset.variables['longitude'].valid_max)\n",
    "    extent.append(dataset.variables['latitude'].valid_min)\n",
    "    extent.append(dataset.variables['latitude'].valid_max)\n",
    "\n",
    "    # get region to plot:   \n",
    "    ilon1 = np.argmin(np.abs(lons[0]-lon))\n",
    "    ilon2 = np.argmin(np.abs(lons[1]-lon))\n",
    "    ilat1 = np.argmin(np.abs(lats[0]-lat))\n",
    "    ilat2 = np.argmin(np.abs(lats[1]-lat))\n",
    "    region = (ilon1,ilon2,ilat1,ilat2)\n",
    "\n",
    "    # get u and v from wspd and wdir:\n",
    "    from bytemaps import get_uv\n",
    "    u,v = get_uv(wspd,wdir)\n",
    "    bad = np.where(wspd<0)\n",
    "    u[bad] = 0.\n",
    "    v[bad] = 0.\n",
    "\n",
    "    # set colors:\n",
    "    palette = cm.jet\n",
    "    palette.set_under('black')\n",
    "    palette.set_over('grey')\n",
    "    wspd[land] = 1.E30\n",
    "\n",
    "    # my preferences:\n",
    "    vmax = myvmax()\n",
    "    scale = myscale()\n",
    "    color = mycolor()\n",
    "\n",
    "    # make the plot:\n",
    "    fig = plt.figure()\n",
    "    plt.imshow(wspd,**set_image(vmin,vmax,extent))\n",
    "    plt.colorbar()\n",
    "    plt.xlim(lons)\n",
    "    plt.ylim(lats)\n",
    "    quikquiv(plt,lon,lat,u,v,scale,region,color)\n",
    "    plt.title(name+' ('+units+')')\n",
    "    plt.grid()    \n",
    "    fig.savefig(figname)\n",
    "    print(' '.join([' '*3,'Saving:',figname]))"
   ]
  },
  {
   "cell_type": "code",
   "execution_count": 62,
   "id": "e88378e3-0c4e-4567-8e96-aeb52984ce64",
   "metadata": {},
   "outputs": [
    {
     "name": "stdout",
     "output_type": "stream",
     "text": [
      "\n",
      "Variables:\n"
     ]
    }
   ],
   "source": [
    "show_variables(ds)"
   ]
  },
  {
   "cell_type": "code",
   "execution_count": null,
   "id": "ca4eb734-05f2-4c2e-96c6-9d552bf293c2",
   "metadata": {},
   "outputs": [],
   "source": []
  }
 ],
 "metadata": {
  "kernelspec": {
   "display_name": "Python 3 (ipykernel)",
   "language": "python",
   "name": "python3"
  },
  "language_info": {
   "codemirror_mode": {
    "name": "ipython",
    "version": 3
   },
   "file_extension": ".py",
   "mimetype": "text/x-python",
   "name": "python",
   "nbconvert_exporter": "python",
   "pygments_lexer": "ipython3",
   "version": "3.9.7"
  }
 },
 "nbformat": 4,
 "nbformat_minor": 5
}
