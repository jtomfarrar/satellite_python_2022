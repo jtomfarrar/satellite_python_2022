{
 "cells": [
  {
   "cell_type": "markdown",
   "id": "aaa5f5cb-3fc8-418e-99f9-9ece727570c5",
   "metadata": {},
   "source": [
    "# To do list\n",
    "\n",
    "Ersen'S Joseph \n",
    "\n",
    "**General goals:**\n",
    "1. Read data in python\n",
    "- [x] From a Folder\n",
    "- [ ] From the cloud\n",
    "2. Make plots\n",
    "1. What features in those plots\n",
    "\n",
    "**Progress track list:** \n",
    "- [x] download global dataset\n",
    "- [x] Read data (one and sevarl)\n",
    "- [x] Plot (SST, SSH, Salinity)\n",
    "- [x] Save plots\n",
    "- [x] Set a range in bar graph\n",
    "- [x] Plot vectors\n",
    "- [x] plot more than one variable in a single figure \n",
    "- [x] Select a region automatically or specify a region\n",
    "- [x] Create for loop\n",
    "- [x] Subplot (oceanography type related plot)\n",
    "- [x] Make video out of plots or visualize the trajectories\n",
    "- [x] Fix SST scale \n",
    "- [x] Write the date on the figures as text (title) \n",
    "- [ ] Read data from the cloud"
   ]
  },
  {
   "cell_type": "code",
   "execution_count": 1,
   "id": "b02edb91-009d-400c-8330-f1d8215609b1",
   "metadata": {},
   "outputs": [],
   "source": [
    "import xarray as xr\n",
    "import numpy as np\n",
    "import matplotlib.pyplot as plt\n",
    "import matplotlib\n",
    "import cartopy.crs as ccrs                   #import projections\n",
    "import cartopy\n",
    "import gsw\n",
    "import cftime"
   ]
  },
  {
   "cell_type": "code",
   "execution_count": 2,
   "id": "d16db1b5",
   "metadata": {},
   "outputs": [],
   "source": [
    "%matplotlib inline  \n",
    "#%matplotlib qt5 \n",
    "plt.rcParams['figure.figsize'] = (5,4)\n",
    "plt.rcParams['figure.dpi'] = 200\n",
    "plt.rcParams['savefig.dpi'] = 400\n",
    "plt.close('all')"
   ]
  },
  {
   "cell_type": "code",
   "execution_count": 3,
   "id": "c095299e",
   "metadata": {},
   "outputs": [],
   "source": [
    "#file = '/Users/lfp/Documents/GitHub/satellite_python_2022V2/Data/dt_global_allsat_phy_l4_20190909_20210726.nc'\n",
    "#file = '../Data/dt_global_allsat_phy_l4_20190909_20210726.nc'\n",
    "#directory = '../Data1/*.nc'\n",
    "#file = '../Data/SLA/20190701-IFR-L3C_GHRSST-SSTsubskin-ODYSSEA-GLOB_010_adjusted-v2.0-fv1.0.nc'\n",
    "#file = '../Data/dataset-duacs-nrt(7:10:219).nc'\n",
    "#file = '../Data/dt_global_allsat_phy_l4_20190909_20210726.nc'\n",
    "#file = '../Data/Data/SLA/20210706-IFR-L3C_GHRSST-SSTsubskin-ODYSSEA-GLOB_010_adjusted-v2.0-fv1.0.nc'\n",
    "#file = '../Data//20190708-IFR-L3C_GHRSST-SSTsubskin-ODYSSEA-GLOB_010_adjusted-v2.0-fv1.0.nc'\n",
    "\n",
    "#directory = '../Data1/*.nc'\n",
    "#file = '/Users/lfp/Desktop/try/20190629120000-REMSS-L4_GHRSST-SSTfnd-MW_OI-GLOB-v02.0-fv05.0.nc'\n",
    "file = '/Users/lfp/Desktop/try/RSS_AMSR2_ocean_L3_weekly_2019-01-05_v08.2.nc'\n"
   ]
  },
  {
   "cell_type": "code",
   "execution_count": 11,
   "id": "a0fc86f0-cf4c-47ac-b350-62e7703b64b3",
   "metadata": {},
   "outputs": [
    {
     "name": "stdout",
     "output_type": "stream",
     "text": [
      "/Users/lfp/Desktop/try\n"
     ]
    }
   ],
   "source": [
    "cd /Users/lfp/Desktop/try/"
   ]
  },
  {
   "cell_type": "code",
   "execution_count": 4,
   "id": "293cf72d",
   "metadata": {},
   "outputs": [
    {
     "ename": "SyntaxError",
     "evalue": "invalid syntax (3582000927.py, line 1)",
     "output_type": "error",
     "traceback": [
      "\u001b[0;36m  File \u001b[0;32m\"/var/folders/x9/37hmb2cj4j72s26nwv19n_xh0000gn/T/ipykernel_38009/3582000927.py\"\u001b[0;36m, line \u001b[0;32m1\u001b[0m\n\u001b[0;31m    ds = xr.open_dataset(file)ds\u001b[0m\n\u001b[0m                              ^\u001b[0m\n\u001b[0;31mSyntaxError\u001b[0m\u001b[0;31m:\u001b[0m invalid syntax\n"
     ]
    }
   ],
   "source": [
    "ds = xr.open_dataset(file)ds"
   ]
  },
  {
   "cell_type": "code",
   "execution_count": null,
   "id": "fe457398",
   "metadata": {},
   "outputs": [],
   "source": [
    "#ds = xr.open_mfdataset(directory)"
   ]
  },
  {
   "cell_type": "code",
   "execution_count": null,
   "id": "147ab2c8-fdd1-4ed2-8726-e43136d2b14a",
   "metadata": {},
   "outputs": [],
   "source": [
    "#ds = ds.sel(lon=slice(80,100),lat=slice(5,25))"
   ]
  },
  {
   "cell_type": "code",
   "execution_count": null,
   "id": "e60a525c-b163-4599-8586-bb4818505271",
   "metadata": {},
   "outputs": [],
   "source": [
    "sst = ds.SST"
   ]
  },
  {
   "cell_type": "code",
   "execution_count": null,
   "id": "10eb694b-e7cf-43e0-ad7d-dc043766529c",
   "metadata": {},
   "outputs": [],
   "source": [
    "# figure saving\n",
    "__figdir__ = '../plots/' + 'BoB 7-22-2019'\n",
    "savefig_args = {'bbox_inches':'tight', 'pad_inches':0.2}\n",
    "plotfiletype='png'\n",
    "# define savefig if we want to use if savefig \n",
    "savefig = 1"
   ]
  },
  {
   "cell_type": "code",
   "execution_count": null,
   "id": "2d30f691",
   "metadata": {},
   "outputs": [],
   "source": [
    "ax = plt.axes(projection = ccrs.PlateCarree(central_longitude=200))  # Orthographic\n",
    "ax.set_title('SST 7/08/2019 ', fontsize=10, fontweight='bold')\n",
    "\n",
    "plt.set_cmap(cmap=plt.get_cmap('nipy_spectral'))\n",
    "plt.set_cmap(cmap=plt.get_cmap('turbo'))\n",
    "    \n",
    "gl = ax.gridlines(draw_labels=True, dms=True, x_inline=False, y_inline=False, alpha=0.5, linestyle='--')\n",
    "gl.top_labels = False\n",
    "gl.ylabels_right = False\n",
    "\n",
    "levels = 10 #related to dataframe\n",
    "\n",
    "cs = ax.contourf(ds.lon,ds.lat,np.squeeze(sst), levels, extend='both', transform=ccrs.PlateCarree())\n",
    "\n",
    "#cb = plt.colorbar(cs,ax=ax,shrink=.8,pad=.05)\n",
    "cb = plt.colorbar(cs,fraction = 0.022, extend='both')\n",
    "cb.set_label('SST (C)',fontsize = 8)\n",
    "ax.coastlines()\n",
    "#Plot coast\n",
    "ax.add_feature(cartopy.feature.LAND, zorder=3, facecolor=[.6,.6,.6], edgecolor='black')\n",
    "\n",
    "if savefig:\n",
    "\n",
    "    plt.savefig(__figdir__+'_SST'+'.'+plotfiletype,**savefig_args)"
   ]
  },
  {
   "cell_type": "code",
   "execution_count": null,
   "id": "bf3aa2bf-a25f-4b36-ad89-96f1b0767f45",
   "metadata": {},
   "outputs": [],
   "source": [
    "# figure saving\n",
    "__figdir__ = '../plots/' + 'BoB 7-22-2019'\n",
    "savefig_args = {'bbox_inches':'tight', 'pad_inches':0.2}\n",
    "plotfiletype='png'\n",
    "# define savefig if we want to use if savefig \n",
    "savefig = 1"
   ]
  },
  {
   "cell_type": "code",
   "execution_count": null,
   "id": "86b052a0-9feb-433f-908b-ce60f7219df7",
   "metadata": {},
   "outputs": [],
   "source": [
    "sla=ds"
   ]
  },
  {
   "cell_type": "code",
   "execution_count": null,
   "id": "0d1b9ab6-b71b-4b4f-b3ed-70ff2436ea97",
   "metadata": {},
   "outputs": [],
   "source": [
    "timeindex = 1\n",
    "ax1 = plt.axes(projection = ccrs.PlateCarree(central_longitude=200))  # Orthographic\n",
    "ax1.set_title('BoB SLA')\n",
    "plt.set_cmap(cmap=plt.get_cmap('nipy_spectral'))\n",
    "plt.set_cmap(cmap=plt.get_cmap('turbo'))\n",
    "gl = ax1.gridlines(draw_labels=True, dms=True, x_inline=False, y_inline=False, alpha=0.5, linestyle='--')\n",
    "gl.top_labels = False\n",
    "gl.ylabels_right = False\n",
    "levels = 10\n",
    "cs = ax1.contourf(ds.lon,ds.lat,np.squeeze(sla[timeindex ,:,:]), levels, extend='both', transform=ccrs.PlateCarree())\n",
    "#cs = ax.pcolormesh(ds.longitude,ds.latitude,np.squeeze(ds.sla), vmin=levels[0], vmax=levels[-1], transform=ccrs.PlateCarree())\n",
    "#cb = plt.colorbar(cs,ax=ax,shrink=.8,pad=.05)\n",
    "\n",
    "\n",
    "\n",
    "cb.set_label('SLA [m]',fontsize = 10)\n",
    "ax1.coastlines()\n",
    "ax1.add_feature(cartopy.feature.LAND, zorder=3, facecolor=[.6,.6,.6], edgecolor='black')\n",
    "\n",
    "if savefig:\n",
    "\n",
    "    plt.savefig(__figdir__+'_SLA'+plotfiletype,**savefig_args)"
   ]
  },
  {
   "cell_type": "code",
   "execution_count": null,
   "id": "de1cf75e-f479-47f0-bd55-c6e6578b45af",
   "metadata": {},
   "outputs": [],
   "source": [
    "\n",
    "timeindex = 0\n",
    "ax0 = plt.axes(projection = ccrs.PlateCarree(central_longitude=200))\n",
    "ax0.set_title('BoB SLA 7/10/19')\n",
    "\n",
    "gl = ax0.gridlines(draw_labels=True, dms=True, x_inline=False, y_inline=False, alpha=0.5, linestyle='--')\n",
    "gl.top_labels = False\n",
    "gl.ylabels_right = False\n",
    "levels = 10\n",
    "\n",
    "cs = ax0.contourf(ds.longitude,ds.latitude,np.squeeze(sla[timeindex ,:,:]), levels, extend='both', transform=ccrs.PlateCarree())\n",
    "cb = plt.colorbar(cs,fraction = 0.022, extend='both')\n",
    "cb.set_label('SLA [m]',fontsize = 10)\n",
    "ax0.coastlines()\n",
    "ax0.add_feature(cartopy.feature.LAND, zorder=3, facecolor=[.6,.6,.6], edgecolor='black')\n",
    "\n",
    "plt.subplots()\n",
    "#fig.tight_layout(pad=50.0)\n",
    "#----------------------------------------------------------------------------------------------\n",
    "timeindex = 1\n",
    "ax1 = plt.axes(projection = ccrs.PlateCarree(central_longitude=200))\n",
    "ax1.set_title('BoB SLA 7/22/19')\n",
    "\n",
    "plt.set_cmap(cmap=plt.get_cmap('turbo'))\n",
    "gl = ax1.gridlines(draw_labels=True, dms=True, x_inline=False, y_inline=False, alpha=0.5, linestyle='--')\n",
    "gl.top_labels = False\n",
    "gl.ylabels_right = False\n",
    "levels = 10\n",
    "\n",
    "cs = ax1.contourf(ds.longitude,ds.latitude,np.squeeze(sla[timeindex ,:,:]), levels, extend='both', transform=ccrs.PlateCarree())\n",
    "cb = plt.colorbar(cs,fraction = 0.022, extend='both')\n",
    "cb.set_label('SLA [m]',fontsize = 10)\n",
    "ax1.coastlines()\n",
    "ax1.add_feature(cartopy.feature.LAND, zorder=3, facecolor=[.6,.6,.6], edgecolor='black')\n"
   ]
  },
  {
   "cell_type": "code",
   "execution_count": null,
   "id": "08b583ad-c1d1-4f41-9796-dda5ea13e035",
   "metadata": {},
   "outputs": [],
   "source": [
    "def plot_variables(longitude,latitude,sla):\n",
    "    \n",
    "    cs = ax.contourf(longitude,latitude,np.squeeze(sla), levels, extend='both', transform=ccrs.PlateCarree())\n",
    "    \n",
    "    ax.set_title('BoB SLA')\n",
    "    \n",
    "\n",
    "    gl = ax.gridlines(draw_labels=True, dms=True, x_inline=False, y_inline=False, alpha=0.5, linestyle='--')\n",
    "    gl.top_labels = False\n",
    "    gl.ylabels_right = False\n",
    "    levels = 10\n",
    "    cs = ax.contourf(longitude,latitude,np.squeeze(sla), levels, extend='both', transform=ccrs.PlateCarree())\n",
    "    \n",
    "    \n",
    "    \n",
    "    cb.set_label('SLA [m]',fontsize = 10)\n",
    "    ax.coastlines()\n",
    "    ax.add_feature(cartopy.feature.LAND, zorder=3, facecolor=[.6,.6,.6], edgecolor='black')\n",
    "\n",
    "    return ax,gl,cs,cb \n",
    "    \n",
    "    \n",
    "    "
   ]
  },
  {
   "cell_type": "code",
   "execution_count": null,
   "id": "971db138-6294-4e0e-b4a7-9d5dd24e77fd",
   "metadata": {},
   "outputs": [],
   "source": [
    "fig,axes = plt.subplots(1,2, subplot_kw = {'projection' : ccrs.PlateCarree(central_longitude=200)}, figsize = (6,8))\n",
    "                       \n",
    "                       \n",
    "plot_variables(ds.longitude,ds.latitude,sla,axes[1,1])\n",
    "                       "
   ]
  },
  {
   "cell_type": "code",
   "execution_count": null,
   "id": "379749f9-e071-4171-8cfa-515eda66526d",
   "metadata": {},
   "outputs": [],
   "source": []
  }
 ],
 "metadata": {
  "kernelspec": {
   "display_name": "Python 3 (ipykernel)",
   "language": "python",
   "name": "python3"
  },
  "language_info": {
   "codemirror_mode": {
    "name": "ipython",
    "version": 3
   },
   "file_extension": ".py",
   "mimetype": "text/x-python",
   "name": "python",
   "nbconvert_exporter": "python",
   "pygments_lexer": "ipython3",
   "version": "3.9.7"
  }
 },
 "nbformat": 4,
 "nbformat_minor": 5
}
