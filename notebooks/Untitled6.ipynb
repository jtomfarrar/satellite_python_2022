{
 "cells": [
  {
   "cell_type": "markdown",
   "id": "1741934d-77e9-4973-8638-2d77ef8ef82f",
   "metadata": {},
   "source": [
    "# Use xmovie to create movie\n"
   ]
  },
  {
   "cell_type": "code",
   "execution_count": 32,
   "id": "35fd9e2b-37a7-4dbc-8a69-78bf990b449f",
   "metadata": {},
   "outputs": [],
   "source": [
    "import warnings\n",
    "\n",
    "import matplotlib.pyplot as plt\n",
    "import xarray as xr\n",
    "from xmovie import Movie\n",
    "from xmovie.presets import rotating_globe\n",
    "from glob import glob\n",
    "from dateutil import parser\n",
    "import cartopy.crs as ccrs                   #import projections\n",
    "import cartopy\n",
    "import gsw\n",
    "import cftime\n",
    "import datetime\n",
    "\n",
    "%matplotlib inline"
   ]
  },
  {
   "cell_type": "code",
   "execution_count": 33,
   "id": "f7a9b158-9aff-480d-9902-3766c4a75cc4",
   "metadata": {},
   "outputs": [
    {
     "name": "stdout",
     "output_type": "stream",
     "text": [
      "2019-05-18 00:00:00\n",
      "2019-03-09 00:00:00\n",
      "2019-10-12 00:00:00\n",
      "2019-06-15 00:00:00\n",
      "2019-12-28 00:00:00\n",
      "2019-10-26 00:00:00\n",
      "2019-10-19 00:00:00\n",
      "2019-03-02 00:00:00\n",
      "2019-08-24 00:00:00\n",
      "2019-10-05 00:00:00\n",
      "2019-02-23 00:00:00\n",
      "2019-02-16 00:00:00\n",
      "2019-05-04 00:00:00\n",
      "2019-04-06 00:00:00\n",
      "2019-08-10 00:00:00\n",
      "2019-06-08 00:00:00\n",
      "2019-07-06 00:00:00\n",
      "2019-09-21 00:00:00\n",
      "2019-09-14 00:00:00\n",
      "2019-08-17 00:00:00\n",
      "2019-12-07 00:00:00\n",
      "2019-03-30 00:00:00\n",
      "2019-11-16 00:00:00\n",
      "2019-11-23 00:00:00\n",
      "2019-01-26 00:00:00\n",
      "2019-03-16 00:00:00\n",
      "2019-01-19 00:00:00\n",
      "2019-11-30 00:00:00\n",
      "2019-03-23 00:00:00\n",
      "2019-06-01 00:00:00\n",
      "2019-01-12 00:00:00\n",
      "2019-06-22 00:00:00\n",
      "2019-05-11 00:00:00\n",
      "2019-09-07 00:00:00\n",
      "2019-02-02 00:00:00\n",
      "2019-12-14 00:00:00\n",
      "2019-07-20 00:00:00\n",
      "2019-04-13 00:00:00\n",
      "2019-02-09 00:00:00\n",
      "2019-04-27 00:00:00\n",
      "2019-12-21 00:00:00\n",
      "2019-06-29 00:00:00\n",
      "2019-08-31 00:00:00\n",
      "2019-01-05 00:00:00\n",
      "2019-05-25 00:00:00\n",
      "2019-07-27 00:00:00\n",
      "2019-08-03 00:00:00\n",
      "2019-07-13 00:00:00\n",
      "2019-04-20 00:00:00\n",
      "2019-11-09 00:00:00\n",
      "2019-09-28 00:00:00\n",
      "2019-11-02 00:00:00\n"
     ]
    }
   ],
   "source": [
    "path='/Users/lfp/Desktop/try/*.nc'\n",
    "\n",
    "ds = xr.open_mfdataset(path,concat_dim='time',combine='nested')\n",
    "#ds = ds.assign_coords(time = [parser.parse(fname.split('/')[-1].split('.')[1]) for fname in glob(path)])\n",
    "for fname in glob(path):\n",
    "    print(parser.parse(fname.split('/')[-1].split('_')[-2]))"
   ]
  },
  {
   "cell_type": "code",
   "execution_count": 43,
   "id": "45013585-f434-4000-a9dc-e4c78cce4861",
   "metadata": {},
   "outputs": [],
   "source": [
    "path='/Users/lfp/Desktop/try/*.nc'\n",
    "\n",
    "ds = xr.open_mfdataset(path,concat_dim='time',combine='nested')\n",
    "ds = ds.assign_coords(time = [parser.parse(fname.split('/')[-1].split('_')[-2]) for fname in glob(path)])\n",
    "ds = ds.sortby('time')"
   ]
  },
  {
   "cell_type": "code",
   "execution_count": 44,
   "id": "25b01d50-6179-46e5-904d-c0a71d37d39f",
   "metadata": {},
   "outputs": [],
   "source": [
    "ds = ds.sel(lon=slice(80,100),lat=slice(5,25))"
   ]
  },
  {
   "cell_type": "code",
   "execution_count": 45,
   "id": "14479061-3c68-427d-b710-c22324d08fbe",
   "metadata": {},
   "outputs": [
    {
     "name": "stderr",
     "output_type": "stream",
     "text": [
      "/Users/lfp/opt/anaconda3/lib/python3.9/site-packages/xmovie/core.py:46: UserWarning: No `vmin` provided. Data limits are calculated from input. Depending on the input this can take long. Pass `vmin` to avoid this step\n",
      "  warnings.warn(\n",
      "/Users/lfp/opt/anaconda3/lib/python3.9/site-packages/xmovie/core.py:53: UserWarning: No `vmax` provided. Data limits are calculated from input. Depending on the input this can take long. Pass `vmax` to avoid this step\n",
      "  warnings.warn(\n"
     ]
    }
   ],
   "source": [
    "mov = Movie(ds.SST)"
   ]
  },
  {
   "cell_type": "code",
   "execution_count": 40,
   "id": "1436ec90-4947-460f-89af-99e62cb975e5",
   "metadata": {},
   "outputs": [
    {
     "name": "stderr",
     "output_type": "stream",
     "text": [
      "/Users/lfp/opt/anaconda3/lib/python3.9/site-packages/xmovie/core.py:46: UserWarning: No `vmin` provided. Data limits are calculated from input. Depending on the input this can take long. Pass `vmin` to avoid this step\n",
      "  warnings.warn(\n",
      "/Users/lfp/opt/anaconda3/lib/python3.9/site-packages/xmovie/core.py:53: UserWarning: No `vmax` provided. Data limits are calculated from input. Depending on the input this can take long. Pass `vmax` to avoid this step\n",
      "  warnings.warn(\n"
     ]
    },
    {
     "data": {
      "application/vnd.jupyter.widget-view+json": {
       "model_id": "3d0d02fb51c1444b8bb8e313d24e72b9",
       "version_major": 2,
       "version_minor": 0
      },
      "text/plain": [
       "  0%|          | 0/52 [00:00<?, ?it/s]"
      ]
     },
     "metadata": {},
     "output_type": "display_data"
    },
    {
     "name": "stdout",
     "output_type": "stream",
     "text": [
      "Movie created at movie_rotating3.mp4\n",
      "GIF created at movie_rotating3.gif\n"
     ]
    }
   ],
   "source": [
    "mov = Movie(ds.SST, framedim='time',plotmethod='contourf', plotfunc=rotating_globe)\n",
    "mov.save('movie_rotating3.gif', remove_movie=False, progress=True, overwrite_existing= True,framerate=3, gif_framerate=3)"
   ]
  },
  {
   "cell_type": "code",
   "execution_count": 46,
   "id": "191527b0-1df7-4e24-84c2-c38cc6039bb0",
   "metadata": {},
   "outputs": [
    {
     "name": "stderr",
     "output_type": "stream",
     "text": [
      "/Users/lfp/opt/anaconda3/lib/python3.9/site-packages/xmovie/core.py:46: UserWarning: No `vmin` provided. Data limits are calculated from input. Depending on the input this can take long. Pass `vmin` to avoid this step\n",
      "  warnings.warn(\n",
      "/Users/lfp/opt/anaconda3/lib/python3.9/site-packages/xmovie/core.py:53: UserWarning: No `vmax` provided. Data limits are calculated from input. Depending on the input this can take long. Pass `vmax` to avoid this step\n",
      "  warnings.warn(\n"
     ]
    },
    {
     "data": {
      "application/vnd.jupyter.widget-view+json": {
       "model_id": "cf46fad7266546f59063b05ddb850dce",
       "version_major": 2,
       "version_minor": 0
      },
      "text/plain": [
       "  0%|          | 0/52 [00:00<?, ?it/s]"
      ]
     },
     "metadata": {},
     "output_type": "display_data"
    },
    {
     "name": "stdout",
     "output_type": "stream",
     "text": [
      "Movie created at movie_2.mp4\n",
      "GIF created at movie_2.gif\n"
     ]
    }
   ],
   "source": [
    "mov = Movie(ds.SST,framedim='time',plotmethod='contourf')\n",
    "mov.save('movie_2.gif', remove_movie=False, progress=True, overwrite_existing= True,framerate=3, gif_framerate=3)"
   ]
  },
  {
   "cell_type": "code",
   "execution_count": 18,
   "id": "01d4f2e5-626d-46a9-9955-169f2ccf01d8",
   "metadata": {},
   "outputs": [
    {
     "data": {
      "text/plain": [
       "'/Users/lfp/Documents/GitHub/satellite_python_2022V2/notebooks'"
      ]
     },
     "execution_count": 18,
     "metadata": {},
     "output_type": "execute_result"
    }
   ],
   "source": [
    "pwd\n"
   ]
  },
  {
   "cell_type": "code",
   "execution_count": null,
   "id": "639e855d-3171-4759-ae68-a567c15958f9",
   "metadata": {},
   "outputs": [],
   "source": []
  },
  {
   "cell_type": "code",
   "execution_count": null,
   "id": "ab69ee75-efe4-4bc9-a2c4-679e8d226df4",
   "metadata": {},
   "outputs": [],
   "source": []
  }
 ],
 "metadata": {
  "kernelspec": {
   "display_name": "Python 3 (ipykernel)",
   "language": "python",
   "name": "python3"
  },
  "language_info": {
   "codemirror_mode": {
    "name": "ipython",
    "version": 3
   },
   "file_extension": ".py",
   "mimetype": "text/x-python",
   "name": "python",
   "nbconvert_exporter": "python",
   "pygments_lexer": "ipython3",
   "version": "3.9.7"
  }
 },
 "nbformat": 4,
 "nbformat_minor": 5
}
