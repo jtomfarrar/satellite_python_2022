{
 "cells": [
  {
   "cell_type": "code",
   "execution_count": 2,
   "id": "f54faf05-0b7c-4c03-8a9a-81843a5c2bc6",
   "metadata": {},
   "outputs": [],
   "source": [
    "import numpy as np\n",
    "import xarray as xr\n",
    "from matplotlib import pyplot as plt\n",
    "import pandas as pd\n",
    "#import pooch\n",
    "from glob import glob\n",
    "from dateutil import parser\n",
    "import cartopy.crs as ccrs      \n",
    "import cartopy #import projections\n",
    "import gsw\n",
    "import cftime\n",
    "import datetime"
   ]
  },
  {
   "cell_type": "code",
   "execution_count": null,
   "id": "104a500d-721c-4ae8-b560-30ea34e253eb",
   "metadata": {},
   "outputs": [],
   "source": []
  },
  {
   "cell_type": "code",
   "execution_count": null,
   "id": "56574afa-404b-4c7a-bc1a-6cde6af46f2f",
   "metadata": {},
   "outputs": [],
   "source": [
    "fnames = glob(path)\n",
    "fnames.sort()\n",
    "#ds = xr.open_mfdataset(path,concat_dim='time',combine='nested')\n",
    "for fname in fnames:\n",
    "    print(parser.parse(fname.split('/')[-1].split('_')[-2]))"
   ]
  },
  {
   "cell_type": "code",
   "execution_count": null,
   "id": "59dcbec9-aaaa-4e85-ad64-fd22a025bcdc",
   "metadata": {},
   "outputs": [],
   "source": [
    "ds = xr.open_dataset(file)\n",
    "ds"
   ]
  },
  {
   "cell_type": "code",
   "execution_count": null,
   "id": "1bb6c387-119f-4fc5-b4fb-83431059c07f",
   "metadata": {},
   "outputs": [],
   "source": [
    "plt.rcParams['figure.figsize'] = (5,4)\n",
    "plt.rcParams['figure.dpi'] = 200\n",
    "plt.rcParams['savefig.dpi'] = 400\n",
    "plt.close('all')\n",
    "\n",
    "__figdir__ = '/Users/lfp/Desktop/file/'\n",
    "savefig_args = {'bbox_inches':'tight', 'pad_inches':0.2}\n",
    "plotfiletype='png'\n",
    "\n",
    "# To save the plotted image\n",
    "savefig = 1"
   ]
  },
  {
   "cell_type": "code",
   "execution_count": null,
   "id": "7d93a948-7d96-4e91-9864-2af2dceeaf14",
   "metadata": {},
   "outputs": [],
   "source": [
    "ds = ds.sel(lon=slice(80,100),lat=slice(5,25))"
   ]
  },
  {
   "cell_type": "code",
   "execution_count": null,
   "id": "f1329129-26b9-4bb6-8afc-854e9ea53179",
   "metadata": {},
   "outputs": [],
   "source": [
    "for i in range(len(ds.time)):\n",
    "    \n",
    "    plt.close('all')\n",
    "\n",
    "    ax = plt.axes(projection = ccrs.PlateCarree(central_longitude=200))  # Orthographic\n",
    "        #day_str=ds.time.dt.strftime(\"%b %d %Y\").values[i]\n",
    "        #ax.set_title(f'BoB SST {str(ds.isel(time=i).time)[-10:]}')\n",
    "        #ax.set_title(f'BoB SST '+day_str)\n",
    "\n",
    "    plt.set_cmap(cmap=plt.get_cmap('nipy_spectral'))\n",
    "    plt.set_cmap(cmap=plt.get_cmap('turbo'))\n",
    "\n",
    "    gl = ax.gridlines(draw_labels=True, dms=True, x_inline=False, y_inline=False, alpha=0.5, linestyle='--')\n",
    "    gl.top_labels = False\n",
    "    gl.ylabels_right = False\n",
    "\n",
    "    levels = 10\n",
    "\n",
    "    #cs = ax.pcolormesh(ds.lon,ds.lat,np.squeeze(ds.isel(time=i).surtep-273.13), vmin=25,vmax=32, transform=ccrs.PlateCarree())\n",
    "    cs = ax.pcolormesh(ds.lon,ds.lat,np.squeeze(ds.SST), vmin=25,vmax=32, transform=ccrs.PlateCarree())\n",
    "\n",
    "    cb = plt.colorbar(cs,fraction = 0.022, extend='both') \n",
    "    cb.set_label('SST [C]',fontsize = 10)\n",
    "    ax.coastlines()\n",
    "    ax.add_feature(cartopy.feature.LAND, zorder=3, facecolor=[.6,.6,.6], edgecolor='black')\n",
    "\n",
    "    plt.savefig(__figdir__+'SST'+str(i)+'.'+plotfiletype,**savefig_args)"
   ]
  }
 ],
 "metadata": {
  "kernelspec": {
   "display_name": "Python 3 (ipykernel)",
   "language": "python",
   "name": "python3"
  },
  "language_info": {
   "codemirror_mode": {
    "name": "ipython",
    "version": 3
   },
   "file_extension": ".py",
   "mimetype": "text/x-python",
   "name": "python",
   "nbconvert_exporter": "python",
   "pygments_lexer": "ipython3",
   "version": "3.9.7"
  }
 },
 "nbformat": 4,
 "nbformat_minor": 5
}
