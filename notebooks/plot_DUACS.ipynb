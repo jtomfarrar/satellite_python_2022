{
 "cells": [
  {
   "cell_type": "markdown",
   "id": "4dabe6ae",
   "metadata": {},
   "source": [
    "## Plot DUACS SSH data for Aviso region\n",
    "\n",
    "Start by using the subsetted real-time product on the S-MODE server."
   ]
  },
  {
   "cell_type": "code",
   "execution_count": 1,
   "id": "96b8d732",
   "metadata": {},
   "outputs": [
    {
     "ename": "ModuleNotFoundError",
     "evalue": "No module named 'cartopy'",
     "output_type": "error",
     "traceback": [
      "\u001b[1;31m---------------------------------------------------------------------------\u001b[0m",
      "\u001b[1;31mModuleNotFoundError\u001b[0m                       Traceback (most recent call last)",
      "\u001b[1;32m~\\AppData\\Local\\Temp/ipykernel_33244/4139783506.py\u001b[0m in \u001b[0;36m<module>\u001b[1;34m\u001b[0m\n\u001b[0;32m      4\u001b[0m \u001b[1;32mimport\u001b[0m \u001b[0mmatplotlib\u001b[0m\u001b[1;33m\u001b[0m\u001b[1;33m\u001b[0m\u001b[0m\n\u001b[0;32m      5\u001b[0m \u001b[1;33m\u001b[0m\u001b[0m\n\u001b[1;32m----> 6\u001b[1;33m \u001b[1;32mimport\u001b[0m \u001b[0mcartopy\u001b[0m\u001b[1;33m.\u001b[0m\u001b[0mcrs\u001b[0m \u001b[1;32mas\u001b[0m \u001b[0mccrs\u001b[0m                   \u001b[1;31m# import projections\u001b[0m\u001b[1;33m\u001b[0m\u001b[1;33m\u001b[0m\u001b[0m\n\u001b[0m\u001b[0;32m      7\u001b[0m \u001b[1;32mimport\u001b[0m \u001b[0mcartopy\u001b[0m\u001b[1;33m\u001b[0m\u001b[1;33m\u001b[0m\u001b[0m\n\u001b[0;32m      8\u001b[0m \u001b[1;32mimport\u001b[0m \u001b[0mgsw\u001b[0m\u001b[1;33m\u001b[0m\u001b[1;33m\u001b[0m\u001b[0m\n",
      "\u001b[1;31mModuleNotFoundError\u001b[0m: No module named 'cartopy'"
     ]
    }
   ],
   "source": [
    "import xarray as xr\n",
    "import numpy as np\n",
    "import matplotlib.pyplot as plt\n",
    "import matplotlib\n",
    "\n",
    "import cartopy.crs as ccrs                   # import projections\n",
    "import cartopy\n",
    "import gsw\n",
    "# import cftime\n"
   ]
  },
  {
   "cell_type": "code",
   "execution_count": null,
   "id": "605392eb",
   "metadata": {},
   "outputs": [],
   "source": [
    "%matplotlib inline  \n",
    "plt.rcParams['figure.figsize'] = (5,4)\n",
    "plt.rcParams['figure.dpi'] = 200\n",
    "plt.rcParams['savefig.dpi'] = 400\n",
    "plt.close('all')\n",
    "\n",
    "__figdir__ = '../plots/' + 'SMODE_'\n",
    "savefig_args = {'bbox_inches':'tight', 'pad_inches':0.2}\n",
    "plotfiletype='png'"
   ]
  },
  {
   "cell_type": "code",
   "execution_count": null,
   "id": "f830e2c7",
   "metadata": {},
   "outputs": [],
   "source": [
    "savefig = True\n",
    "zoom = True\n",
    "if zoom:\n",
    "    xmin, xmax = (-126,-121)\n",
    "    ymin, ymax = (36.25,38.5)\n",
    "    levels = np.linspace(-.2,.2,41)\n",
    "else:\n",
    "    xmin, xmax = (-127,-121)\n",
    "    ymin, ymax = (35, 40)\n",
    "    levels = np.linspace(13,18,11)\n",
    "\n",
    "    "
   ]
  },
  {
   "cell_type": "code",
   "execution_count": null,
   "id": "215428c1",
   "metadata": {},
   "outputs": [],
   "source": [
    "def plot_ops_area(ax,**kwargs):\n",
    "    \"\"\" Add polygon to show S-MODE pilot operations area\n",
    "         Inputs\n",
    "            - matplotlib.pyplot.plot kwargs\n",
    "\n",
    "         return\n",
    "            - exit code (True if OK)\n",
    "\n",
    "    \"\"\"\n",
    "\n",
    "    # Add S-MODE pilot operations area\n",
    "    ''' \n",
    "\n",
    "    New corners of pentagon:\n",
    "    38° 05.500’ N, 125° 22.067’ W\n",
    "    37° 43.000’ N, 124° 00.067’ W\n",
    "    37° 45.000’ N, 123° 26.000‘ W\n",
    "    36° 58.000’ N, 122° 57.000’ W\n",
    "    36° 20.000’ N, 124° 19.067’ W \n",
    "    '''\n",
    "    \n",
    "    coord = [[-(125+22.067/60),38+5.5/60], [-(124+0.067/60),37+43/60], [-(123+26/60),37+45/60], [-(122+57/60),36+58/60], [-(124+19.067/60),36+20/60]]\n",
    "    coord.append(coord[0]) #repeat the first point to create a 'closed loop'\n",
    "\n",
    "    xs, ys = zip(*coord) #create lists of x and y values\n",
    "\n",
    "    if ax is None:\n",
    "        ax = plt.gca()    \n",
    "    # ax.plot(xs,ys,transform=ccrs.PlateCarree()) \n",
    "    ax.plot(xs,ys,**kwargs) \n",
    "    \n",
    "    SF_lon=-(122+25/60)\n",
    "    SF_lat= 37+47/60\n",
    "    \n",
    "    # mark a known place to help us geo-locate ourselves\n",
    "    ax.plot(SF_lon, SF_lat, 'o', markersize=3, **kwargs)\n",
    "    ax.text(SF_lon-5/60, SF_lat+5/60, 'San Francisco', fontsize=8, **kwargs)\n",
    "    ax.text(np.mean(xs)-.6, np.mean(ys)-.3, 'S-MODE ops area', fontsize=8, **kwargs)\n",
    "    print(kwargs)\n",
    "    \n",
    "    return(xs,ys,ax)\n"
   ]
  },
  {
   "cell_type": "code",
   "execution_count": null,
   "id": "128201b9",
   "metadata": {},
   "outputs": [],
   "source": [
    "url = 'http://smode.whoi.edu:8080/thredds/dodsC/satellite/AVISO/aviso.nc'\n",
    "ds = xr.open_dataset(url)"
   ]
  },
  {
   "cell_type": "code",
   "execution_count": null,
   "id": "d20bdbb5",
   "metadata": {},
   "outputs": [],
   "source": [
    "ds"
   ]
  },
  {
   "cell_type": "code",
   "execution_count": null,
   "id": "987a5200",
   "metadata": {},
   "outputs": [],
   "source": [
    "fig = plt.figure()\n",
    "ax = plt.axes(projection = ccrs.PlateCarree(central_longitude=200))  # Orthographic\n",
    "extent = [xmin, xmax, ymin, ymax]\n",
    "tind=-1\n",
    "day_str = np.datetime_as_string(ds.time[tind], unit='D')\n",
    "ax.set_extent(extent, crs=ccrs.PlateCarree())\n",
    "ax.set_title('Sea level anomaly (DUACS), '+ day_str,size = 10.)\n",
    "\n",
    "#plt.set_cmap(cmap=plt.get_cmap('nipy_spectral'))\n",
    "plt.set_cmap(cmap=plt.get_cmap('turbo'))\n",
    "gl = ax.gridlines(draw_labels=True, dms=True, x_inline=False, y_inline=False, alpha=0.5, linestyle='--')\n",
    "gl.top_labels = False\n",
    "gl.ylabels_right = False\n",
    "#gl.xlocator = matplotlib.ticker.MaxNLocator(10)\n",
    "#gl.xlocator = matplotlib.ticker.AutoLocator\n",
    "# gl.xlocator = matplotlib.ticker.FixedLocator(np.arange(0, 360 ,30))\n",
    "\n",
    "cs = ax.contourf(ds.longitude,ds.latitude,np.squeeze(ds.sla.isel(time=tind)), levels, extend='both', transform=ccrs.PlateCarree())\n",
    "# cs = ax.pcolormesh(ds.longitude,ds.latitude,np.squeeze(ds.sla), vmin=levels[0], vmax=levels[-1], transform=ccrs.PlateCarree())\n",
    "# cb = plt.colorbar(cs,ax=ax,shrink=.8,pad=.05)\n",
    "cb = plt.colorbar(cs,fraction = 0.022,extend='both')\n",
    "cb.set_label('SLA [m]',fontsize = 10)\n",
    "ax.coastlines()\n",
    "ax.add_feature(cartopy.feature.LAND, zorder=3, facecolor=[.6,.6,.6], edgecolor='black')\n",
    "\n",
    "plot_ops_area(ax,transform=ccrs.PlateCarree(),color='w')\n",
    "\n",
    "# Add a 10 km scale bar\n",
    "km_per_deg_lat=gsw.geostrophy.distance((125,125), (37,38))/1000\n",
    "deg_lat_equal_10km=10/km_per_deg_lat\n",
    "ax.plot(-123.75+np.asarray([0, 0]),36.75+np.asarray([0.,deg_lat_equal_10km]),transform=ccrs.PlateCarree())\n",
    "\n",
    "if savefig:\n",
    "    plt.savefig(__figdir__+'_SLA'+plotfiletype,**savefig_args)\n"
   ]
  },
  {
   "cell_type": "code",
   "execution_count": null,
   "id": "af145419",
   "metadata": {},
   "outputs": [],
   "source": []
  },
  {
   "cell_type": "code",
   "execution_count": null,
   "id": "a3c99223",
   "metadata": {},
   "outputs": [],
   "source": []
  }
 ],
 "metadata": {
  "kernelspec": {
   "display_name": "Python 3 (ipykernel)",
   "language": "python",
   "name": "python3"
  },
  "language_info": {
   "codemirror_mode": {
    "name": "ipython",
    "version": 3
   },
   "file_extension": ".py",
   "mimetype": "text/x-python",
   "name": "python",
   "nbconvert_exporter": "python",
   "pygments_lexer": "ipython3",
   "version": "3.8.12"
  }
 },
 "nbformat": 4,
 "nbformat_minor": 5
}
