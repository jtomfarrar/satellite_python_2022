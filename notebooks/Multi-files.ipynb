{
 "cells": [
  {
   "cell_type": "markdown",
   "id": "aaa5f5cb-3fc8-418e-99f9-9ece727570c5",
   "metadata": {},
   "source": [
    "# BoB SLA during the beginning of the Break/Active periode July 2019\n",
    "\n",
    "Ersen'S Joseph \n",
    "\n",
    "**General goal:**\n",
    "1. Be able to read data in python including read several data from a folder in a notebook\n",
    "1. Be able to produce plot in python including produce several plots\n",
    "\n",
    "**To-do list:** (specify a region)\n",
    "- [ ] Read one data (sla) \n",
    "- [x] plot\n",
    "- [x] Read several data from a folder in a notebook\n",
    "- [x] Plots from each of the data from that folder\n",
    "- [x] Plot vectors\n",
    "- [ ] plot more than one variable in a single figure \n",
    "- [x] Select a region automatically\n",
    "- [ ] Create a for loop \n",
    "- [ ]\n",
    "# focus on a specific dataset"
   ]
  },
  {
   "cell_type": "code",
   "execution_count": null,
   "id": "ba8a4eff-ff9d-4c27-b06c-e58fb9c4b471",
   "metadata": {},
   "outputs": [],
   "source": [
    "xxxxx"
   ]
  },
  {
   "cell_type": "code",
   "execution_count": null,
   "id": "b02edb91-009d-400c-8330-f1d8215609b1",
   "metadata": {},
   "outputs": [],
   "source": [
    "import xarray as xr\n",
    "import numpy as np\n",
    "import matplotlib.pyplot as plt\n",
    "import matplotlib\n",
    "import cartopy.crs as ccrs                   #import projections\n",
    "import cartopy\n",
    "import gsw\n",
    "import cftime"
   ]
  },
  {
   "cell_type": "code",
   "execution_count": null,
   "id": "d16db1b5",
   "metadata": {},
   "outputs": [],
   "source": [
    "%matplotlib inline  \n",
    "#%matplotlib qt5 \n",
    "plt.rcParams['figure.figsize'] = (5,4)\n",
    "plt.rcParams['figure.dpi'] = 200\n",
    "plt.rcParams['savefig.dpi'] = 400\n",
    "plt.close('all')"
   ]
  },
  {
   "cell_type": "code",
   "execution_count": null,
   "id": "c095299e",
   "metadata": {},
   "outputs": [],
   "source": [
    "#file = '/Users/lfp/Documents/GitHub/satellite_python_2022V2/Data/dt_global_allsat_phy_l4_20190909_20210726.nc'\n",
    "#file = '../Data/dt_global_allsat_phy_l4_20190909_20210726.nc'\n",
    "#directory = '../Data1/*.nc'\n",
    "#file = '../Data/SLA/20190701-IFR-L3C_GHRSST-SSTsubskin-ODYSSEA-GLOB_010_adjusted-v2.0-fv1.0.nc'\n",
    "#file = '../Data/dataset-duacs-nrt(7:10:219).nc'\n",
    "#file = '../Data/dt_global_allsat_phy_l4_20190909_20210726.nc'\n",
    "#file = '../Data/Data/SLA/20210706-IFR-L3C_GHRSST-SSTsubskin-ODYSSEA-GLOB_010_adjusted-v2.0-fv1.0.nc'\n",
    "#file = '../Data//20190708-IFR-L3C_GHRSST-SSTsubskin-ODYSSEA-GLOB_010_adjusted-v2.0-fv1.0.nc'\n",
    "\n",
    "directory = '../Data1/*.nc'"
   ]
  },
  {
   "cell_type": "code",
   "execution_count": null,
   "id": "293cf72d",
   "metadata": {},
   "outputs": [],
   "source": [
    "#ds = xr.open_dataset(file)"
   ]
  },
  {
   "cell_type": "code",
   "execution_count": null,
   "id": "fe457398",
   "metadata": {},
   "outputs": [],
   "source": [
    "ds = xr.open_mfdataset(directory)"
   ]
  },
  {
   "cell_type": "code",
   "execution_count": null,
   "id": "d68d3183",
   "metadata": {},
   "outputs": [],
   "source": [
    "ds"
   ]
  },
  {
   "cell_type": "code",
   "execution_count": null,
   "id": "d617ac8c-5478-416b-92bc-1cc52303ba0c",
   "metadata": {},
   "outputs": [],
   "source": []
  },
  {
   "cell_type": "code",
   "execution_count": null,
   "id": "e023ead9",
   "metadata": {},
   "outputs": [],
   "source": [
    "sla = ds.sla"
   ]
  },
  {
   "cell_type": "code",
   "execution_count": null,
   "id": "73057161-7a67-4eb9-a29a-a61dfde25465",
   "metadata": {},
   "outputs": [],
   "source": [
    "# figure saving\n",
    "__figdir__ = '../plots/' + 'BoB 7-10-2019'\n",
    "savefig_args = {'bbox_inches':'tight', 'pad_inches':0.2}\n",
    "plotfiletype='png'\n",
    "# define savefig if we want to use if savefig \n",
    "savefig = 1"
   ]
  },
  {
   "cell_type": "code",
   "execution_count": null,
   "id": "2d30f691",
   "metadata": {},
   "outputs": [],
   "source": [
    "timeindex = 0\n",
    "ax = plt.axes(projection = ccrs.PlateCarree(central_longitude=200))  # Orthographic\n",
    "ax.set_title('BoB SLA')\n",
    "plt.set_cmap(cmap=plt.get_cmap('nipy_spectral'))\n",
    "plt.set_cmap(cmap=plt.get_cmap('turbo'))\n",
    "gl = ax.gridlines(draw_labels=True, dms=True, x_inline=False, y_inline=False, alpha=0.5, linestyle='--')\n",
    "gl.top_labels = False\n",
    "gl.ylabels_right = False\n",
    "levels = 10\n",
    "cs = ax.contourf(ds.longitude,ds.latitude,np.squeeze(sla[timeindex ,:,:]), levels, extend='both', transform=ccrs.PlateCarree())\n",
    "#cs = ax.pcolormesh(ds.longitude,ds.latitude,np.squeeze(ds.sla), vmin=levels[0], vmax=levels[-1], transform=ccrs.PlateCarree())\n",
    "cb = plt.colorbar(cs,ax=ax,shrink=.8,pad=.05)\n",
    "#cb = plt.colorbar(cs,fraction = 0.022, extend='both')\n",
    "cb.set_label('SLA [m]',fontsize = 10)\n",
    "ax.coastlines()\n",
    "ax.add_feature(cartopy.feature.LAND, zorder=3, facecolor=[.6,.6,.6], edgecolor='black')\n",
    "\n",
    "if savefig:\n",
    "\n",
    "    plt.savefig(__figdir__+'_SLA'+plotfiletype,**savefig_args)"
   ]
  },
  {
   "cell_type": "code",
   "execution_count": null,
   "id": "bf3aa2bf-a25f-4b36-ad89-96f1b0767f45",
   "metadata": {},
   "outputs": [],
   "source": [
    "# figure saving\n",
    "__figdir__ = '../plots/' + 'BoB 7-22-2019'\n",
    "savefig_args = {'bbox_inches':'tight', 'pad_inches':0.2}\n",
    "plotfiletype='png'\n",
    "# define savefig if we want to use if savefig \n",
    "savefig = 1"
   ]
  },
  {
   "cell_type": "code",
   "execution_count": null,
   "id": "0d1b9ab6-b71b-4b4f-b3ed-70ff2436ea97",
   "metadata": {},
   "outputs": [],
   "source": [
    "timeindex = 1\n",
    "ax1 = plt.axes(projection = ccrs.PlateCarree(central_longitude=200))  # Orthographic\n",
    "ax1.set_title('BoB SLA')\n",
    "plt.set_cmap(cmap=plt.get_cmap('nipy_spectral'))\n",
    "plt.set_cmap(cmap=plt.get_cmap('turbo'))\n",
    "gl = ax1.gridlines(draw_labels=True, dms=True, x_inline=False, y_inline=False, alpha=0.5, linestyle='--')\n",
    "gl.top_labels = False\n",
    "gl.ylabels_right = False\n",
    "levels = 10\n",
    "cs = ax1.contourf(ds.longitude,ds.latitude,np.squeeze(sla[timeindex ,:,:]), levels, extend='both', transform=ccrs.PlateCarree())\n",
    "#cs = ax.pcolormesh(ds.longitude,ds.latitude,np.squeeze(ds.sla), vmin=levels[0], vmax=levels[-1], transform=ccrs.PlateCarree())\n",
    "#cb = plt.colorbar(cs,ax=ax,shrink=.8,pad=.05)\n",
    "cb = plt.colorbar(cs,fraction = 0.022, extend='both')\n",
    "cb.set_label('SLA [m]',fontsize = 10)\n",
    "ax1.coastlines()\n",
    "ax1.add_feature(cartopy.feature.LAND, zorder=3, facecolor=[.6,.6,.6], edgecolor='black')\n",
    "\n",
    "if savefig:\n",
    "\n",
    "    plt.savefig(__figdir__+'_SLA'+plotfiletype,**savefig_args)"
   ]
  },
  {
   "cell_type": "code",
   "execution_count": null,
   "id": "38588e9a-f59b-41a2-9659-b0e02ecb2962",
   "metadata": {},
   "outputs": [],
   "source": []
  },
  {
   "cell_type": "code",
   "execution_count": null,
   "id": "08b583ad-c1d1-4f41-9796-dda5ea13e035",
   "metadata": {},
   "outputs": [],
   "source": [
    "def plot_variables(longitude,latitude,sla):\n",
    "    \n",
    "    cs = ax.contourf(longitude,latitude,np.squeeze(sla), levels, extend='both', transform=ccrs.PlateCarree())\n",
    "    \n",
    "    ax.set_title('BoB SLA')\n",
    "    \n",
    "\n",
    "    gl = ax.gridlines(draw_labels=True, dms=True, x_inline=False, y_inline=False, alpha=0.5, linestyle='--')\n",
    "    gl.top_labels = False\n",
    "    gl.ylabels_right = False\n",
    "    levels = 10\n",
    "    cs = ax.contourf(longitude,latitude,np.squeeze(sla), levels, extend='both', transform=ccrs.PlateCarree())\n",
    "    \n",
    "    \n",
    "    \n",
    "    cb.set_label('SLA [m]',fontsize = 10)\n",
    "    ax.coastlines()\n",
    "    ax.add_feature(cartopy.feature.LAND, zorder=3, facecolor=[.6,.6,.6], edgecolor='black')\n",
    "\n",
    "    return ax,gl,cs,cb \n",
    "    \n",
    "    \n",
    "    "
   ]
  },
  {
   "cell_type": "code",
   "execution_count": 41,
   "id": "971db138-6294-4e0e-b4a7-9d5dd24e77fd",
   "metadata": {},
   "outputs": [
    {
     "ename": "IndexError",
     "evalue": "too many indices for array: array is 1-dimensional, but 2 were indexed",
     "output_type": "error",
     "traceback": [
      "\u001b[0;31m---------------------------------------------------------------------------\u001b[0m",
      "\u001b[0;31mIndexError\u001b[0m                                Traceback (most recent call last)",
      "\u001b[0;32m/var/folders/x9/37hmb2cj4j72s26nwv19n_xh0000gn/T/ipykernel_61274/1338589633.py\u001b[0m in \u001b[0;36m<module>\u001b[0;34m\u001b[0m\n\u001b[1;32m      2\u001b[0m \u001b[0;34m\u001b[0m\u001b[0m\n\u001b[1;32m      3\u001b[0m \u001b[0;34m\u001b[0m\u001b[0m\n\u001b[0;32m----> 4\u001b[0;31m \u001b[0mplot_variables\u001b[0m\u001b[0;34m(\u001b[0m\u001b[0mds\u001b[0m\u001b[0;34m.\u001b[0m\u001b[0mlongitude\u001b[0m\u001b[0;34m,\u001b[0m\u001b[0mds\u001b[0m\u001b[0;34m.\u001b[0m\u001b[0mlatitude\u001b[0m\u001b[0;34m,\u001b[0m\u001b[0msla\u001b[0m\u001b[0;34m,\u001b[0m\u001b[0maxes\u001b[0m\u001b[0;34m[\u001b[0m\u001b[0;36m1\u001b[0m\u001b[0;34m,\u001b[0m\u001b[0;36m1\u001b[0m\u001b[0;34m]\u001b[0m\u001b[0;34m)\u001b[0m\u001b[0;34m\u001b[0m\u001b[0;34m\u001b[0m\u001b[0m\n\u001b[0m\u001b[1;32m      5\u001b[0m \u001b[0;34m\u001b[0m\u001b[0m\n",
      "\u001b[0;31mIndexError\u001b[0m: too many indices for array: array is 1-dimensional, but 2 were indexed"
     ]
    },
    {
     "data": {
      "image/png": "[encoded data removed]",
      "text/plain": [
       "<Figure size 1200x1600 with 2 Axes>"
      ]
     },
     "metadata": {
      "needs_background": "light"
     },
     "output_type": "display_data"
    }
   ],
   "source": [
    "fig,axes = plt.subplots(1,2, subplot_kw = {'projection' : ccrs.PlateCarree(central_longitude=200)}, figsize = (6,8))\n",
    "                       \n",
    "                       \n",
    "plot_variables(ds.longitude,ds.latitude,sla,axes[1,1])\n",
    "                       "
   ]
  },
  {
   "cell_type": "code",
   "execution_count": null,
   "id": "379749f9-e071-4171-8cfa-515eda66526d",
   "metadata": {},
   "outputs": [],
   "source": []
  }
 ],
 "metadata": {
  "kernelspec": {
   "display_name": "Python 3 (ipykernel)",
   "language": "python",
   "name": "python3"
  },
  "language_info": {
   "codemirror_mode": {
    "name": "ipython",
    "version": 3
   },
   "file_extension": ".py",
   "mimetype": "text/x-python",
   "name": "python",
   "nbconvert_exporter": "python",
   "pygments_lexer": "ipython3",
   "version": "3.9.7"
  }
 },
 "nbformat": 4,
 "nbformat_minor": 5
}
