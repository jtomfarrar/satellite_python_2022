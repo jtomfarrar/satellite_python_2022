{
 "cells": [
  {
   "cell_type": "code",
   "execution_count": 29,
   "id": "6e07d2ae-6c47-457d-a421-9be76cfbfee0",
   "metadata": {},
   "outputs": [],
   "source": [
    "import numpy as np\n",
    "import xarray as xr\n",
    "from matplotlib import pyplot as plt\n",
    "import pandas as pd\n",
    "#import pooch\n",
    "from glob import glob\n",
    "from dateutil import parser\n",
    "import cartopy.crs as ccrs                   #import projections\n",
    "import cartopy\n",
    "import gsw\n",
    "import cftime\n",
    "import datetime"
   ]
  },
  {
   "cell_type": "code",
   "execution_count": 60,
   "id": "6196edd9-5e28-439f-aa80-9a412d0afe58",
   "metadata": {},
   "outputs": [],
   "source": [
    "# %matplotlib inline\n",
    "%matplotlib qt5\n",
    "\n",
    "plt.rcParams['figure.figsize'] = (5,4)\n",
    "plt.rcParams['figure.dpi'] = 200\n",
    "plt.rcParams['savefig.dpi'] = 400\n",
    "plt.close('all')\n",
    "\n",
    "__figdir__ = '../plots/plots2/' + 'MISOBOB_'\n",
    "savefig_args = {'bbox_inches':'tight', 'pad_inches':0.2}\n",
    "plotfiletype='png'\n",
    "\n",
    "# To save the plotted image\n",
    "savefig = 1"
   ]
  },
  {
   "cell_type": "code",
   "execution_count": 23,
   "id": "26dc9d64-bed1-470b-b042-be942a3cd3fa",
   "metadata": {},
   "outputs": [
    {
     "name": "stdout",
     "output_type": "stream",
     "text": [
      "2019-07-27 00:00:00\n",
      "2019-07-31 00:00:00\n",
      "2019-07-15 00:00:00\n",
      "2019-07-09 00:00:00\n",
      "2019-07-25 00:00:00\n",
      "2019-07-17 00:00:00\n",
      "2019-07-11 00:00:00\n",
      "2019-07-23 00:00:00\n",
      "2019-07-19 00:00:00\n",
      "2019-07-13 00:00:00\n",
      "2019-07-29 00:00:00\n",
      "2019-07-21 00:00:00\n",
      "2019-07-14 00:00:00\n",
      "2019-07-30 00:00:00\n",
      "2019-07-26 00:00:00\n",
      "2019-07-16 00:00:00\n",
      "2019-07-08 00:00:00\n",
      "2019-07-24 00:00:00\n",
      "2019-07-22 00:00:00\n",
      "2019-07-18 00:00:00\n",
      "2019-07-10 00:00:00\n",
      "2019-07-20 00:00:00\n",
      "2019-07-12 00:00:00\n",
      "2019-07-28 00:00:00\n"
     ]
    }
   ],
   "source": [
    "path='/Users/lfp/Documents/GitHub/satellite_python_2022V2/Data/requested/*.nc'\n",
    "\n",
    "ds = xr.open_mfdataset(path,concat_dim='time',combine='nested')\n",
    "#ds = ds.assign_coords(time = [parser.parse(fname.split('/')[-1].split('.')[1]) for fname in glob(path)])\n",
    "for fname in glob(path):\n",
    "    print(parser.parse(fname.split('/')[-1].split('.')[1]))\n",
    "    "
   ]
  },
  {
   "cell_type": "code",
   "execution_count": 64,
   "id": "9a862948-37fe-434b-aeb6-a3b45cd67de3",
   "metadata": {},
   "outputs": [
    {
     "name": "stdout",
     "output_type": "stream",
     "text": [
      "24\n"
     ]
    },
    {
     "data": {
      "text/plain": [
       "'2019-07-31'"
      ]
     },
     "execution_count": 64,
     "metadata": {},
     "output_type": "execute_result"
    }
   ],
   "source": [
    "path='/Users/lfp/Documents/GitHub/satellite_python_2022V2/Data/requested/*.nc'\n",
    "\n",
    "ds = xr.open_mfdataset(path,concat_dim='time',combine='nested')\n",
    "ds = ds.assign_coords(time = [parser.parse(fname.split('/')[-1].split('.')[1]) for fname in glob(path)])\n",
    "ds = ds.sortby('time')\n",
    "print(len(ds.time))\n",
    "str(ds.isel(time=i).time)[-10:]\n"
   ]
  },
  {
   "cell_type": "code",
   "execution_count": 63,
   "id": "048427f3-cce5-40db-b5f8-834367d3eec0",
   "metadata": {},
   "outputs": [],
   "source": [
    "for i in range(len(ds.time)):\n",
    "    \n",
    "    # Set plot axes two different ways:\n",
    "    [xmin, xmax, ymin, ymax] = [-10, 10, -10, 6]\n",
    "    ax.set_xlim(xmin, xmax)\n",
    "    ax.set_ylim(ymin, ymax)\n",
    "    \n",
    "    ax = plt.axes(projection = ccrs.PlateCarree(central_longitude=200))  # Orthographic\n",
    "    ax.set_title(f'BoB SST {str(ds.isel(time=i).time)[-10:]}')\n",
    "    \n",
    "    gl = ax.gridlines(draw_labels=True, dms=True, x_inline=False, y_inline=False, alpha=0.5, linestyle='--')\n",
    "    gl.top_labels = False\n",
    "    gl.ylabels_right = False\n",
    "\n",
    "    levels = 10\n",
    "    cs = ax.contourf(ds.lon,ds.lat,np.squeeze(ds.isel(time=i).sst), levels, extend='both', transform=ccrs.PlateCarree())\n",
    "    #cs = ax.pcolormesh(ds.longitude,ds.latitude,np.squeeze(ds.sla), vmin=levels[0], vmax=levels[-1], transform=ccrs.PlateCarree())\n",
    "    cb = plt.colorbar(cs,ax=ax,shrink=.8,pad=.05)\n",
    "    #cb = plt.colorbar(cs,fraction = 0.022, extend='both')\n",
    "    cb.set_label('SST [C]',fontsize = 10)\n",
    "    ax.coastlines()\n",
    "    ax.add_feature(cartopy.feature.LAND, zorder=3, facecolor=[.6,.6,.6], edgecolor='black')\n",
    "    plt.savefig(__figdir__+str(ds.isel(time=i).time)[-10:]+'_SST.'+plotfiletype,**savefig_args)\n",
    "    plt.clf()\n",
    "    "
   ]
  }
 ],
 "metadata": {
  "kernelspec": {
   "display_name": "Python 3 (ipykernel)",
   "language": "python",
   "name": "python3"
  },
  "language_info": {
   "codemirror_mode": {
    "name": "ipython",
    "version": 3
   },
   "file_extension": ".py",
   "mimetype": "text/x-python",
   "name": "python",
   "nbconvert_exporter": "python",
   "pygments_lexer": "ipython3",
   "version": "3.9.7"
  }
 },
 "nbformat": 4,
 "nbformat_minor": 5
}
