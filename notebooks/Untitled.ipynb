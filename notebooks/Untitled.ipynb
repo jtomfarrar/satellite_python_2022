{
 "cells": [
  {
<<<<<<< Updated upstream
   "cell_type": "markdown",
   "metadata": {},
   "source": [
    "# Try loading a single satellite SST file off the web\n",
    "\n",
    "\n",
    "\n",
    "https://opendap.earthdata.nasa.gov/collections/C2036877595-POCLOUD/granules/20211104005000-OSPO-L3U_GHRSST-SSTsubskin-VIIRS_NPP-ACSPO_V2.61-v02.0-fv01.0"
   ]
  },
  {
   "cell_type": "code",
   "execution_count": 1,
   "metadata": {},
   "outputs": [],
   "source": [
    "import xarray as xr\n",
    "import numpy as np\n",
    "import matplotlib.pyplot as plt\n",
    "import matplotlib\n",
    "\n",
    "import cartopy.crs as ccrs                   # import projections\n",
    "import cartopy\n"
   ]
  },
  {
   "cell_type": "code",
   "execution_count": null,
   "metadata": {},
   "outputs": [],
   "source": [
    "url = 'http://smode.whoi.edu:8080/thredds/dodsC/satellite/AVISO/aviso.nc'\n",
    "#url = 'https://my.cmems-du.eu/thredds/dodsC/cmems_obs-sl_glo_phy-ssh_my_allsat-l4-duacs-0.25deg_P1D'\n",
    "ds = xr.open_dataset(url)"
=======
   "cell_type": "code",
   "execution_count": null,
   "id": "c0fca391",
   "metadata": {},
   "outputs": [],
   "source": [
    "#Pretty sure some of these are extraneous\n",
    "import s3fs\n",
    "import os\n",
    "import os.path\n",
    "import json\n",
    "import warnings\n",
    "import requests\n",
    "import numpy as np\n",
    "import pandas as pd\n",
    "import xarray as xr\n",
    "from io import StringIO\n",
    "\n",
    "import matplotlib.pyplot as plt\n",
    "import matplotlib\n",
    "from matplotlib.ticker import FormatStrFormatter\n",
    "from matplotlib import ticker, rc, cm\n",
    "\n",
    "import cartopy.crs as ccrs\n",
    "import cartopy.feature as cfeature\n",
    "import cartopy\n",
    "\n",
    "#import geoviews as gv\n",
    "#import hvplot.xarray\n",
    "#import holoviews as hv\n",
    "#gv.extension('bokeh', 'matplotlib')\n",
    "\n",
    "warnings.filterwarnings(\"ignore\")\n",
    "\n",
    "%matplotlib inline\n",
    "# %matplotlib qt5\n",
    "\n",
    "\n",
    "https://opendap.earthdata.nasa.gov/collections/C2036877595-POCLOUD/granules/20211104005000-OSPO-L3U_GHRSST-SSTsubskin-VIIRS_NPP-ACSPO_V2.61-v02.0-fv01.0"
>>>>>>> Stashed changes
   ]
  }
 ],
 "metadata": {
  "kernelspec": {
<<<<<<< Updated upstream
   "display_name": "Python 3",
=======
   "display_name": "Python 3 (ipykernel)",
>>>>>>> Stashed changes
   "language": "python",
   "name": "python3"
  },
  "language_info": {
   "codemirror_mode": {
    "name": "ipython",
    "version": 3
   },
   "file_extension": ".py",
   "mimetype": "text/x-python",
   "name": "python",
   "nbconvert_exporter": "python",
   "pygments_lexer": "ipython3",
<<<<<<< Updated upstream
   "version": "3.8.6"
  }
 },
 "nbformat": 4,
 "nbformat_minor": 4
=======
   "version": "3.9.7"
  }
 },
 "nbformat": 4,
 "nbformat_minor": 5
>>>>>>> Stashed changes
}
