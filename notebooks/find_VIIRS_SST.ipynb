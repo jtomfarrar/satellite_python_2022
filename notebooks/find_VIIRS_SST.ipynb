{
 "cells": [
  {
   "cell_type": "markdown",
   "id": "d81220e4-17cb-41a4-9285-02dc93d50b3b",
   "metadata": {},
   "source": [
    "# Find clear scenes in high-resolution SST\n",
    "\n",
    "### Choose a target region and time period, cycle through all available high-resolution sea surface temperature data, identify clear images, catalog them \n",
    "\n",
    "https://github.com/NASA-Openscapes/nch2021-projects-contexdata\n",
    "\n",
    "- This builds on biavillasboas's notebook\n",
    "- We will use L3 VIIRS SST here, PO.DAAC short name \"VIIRS_NPP-OSPO-L3U-v2.61\"\n",
    "\n",
    "\n",
    "Issues/to-do:\n",
    "\n",
    "1. Processing a year of data consumes all the memory on a small cloud instance (when xr.open_mfdataset() is called)\n",
    "1. It seems like I am hitting a limit of the number of granules that can be returned by using requests.get to query 'https://cmr.earthdata.nasa.gov/search/granules'\n",
    "1. It would be nice to print/save a list of clear dates\n",
    "\n",
    "## Summary of what I learned \n",
    "\n",
    "1. Cloud computing is just using someone else’s computer.\n",
    "1. The place where there is an advantage to be had is when you can do cloud computing next to a huge amount of data\n",
    "1. If you must work locally, or on a different cloud than where the data are, data sets in the cloud are functionally just data sets on the web\n",
    "1. We can query the NASA Common Metadata Repository to find out the names and “concept ID” of datasets (url = 'https://cmr.earthdata.nasa.gov/search/collections.umm_json'); see example below in this notebook\n",
    "1. To download data (to cloud or local machine), you need a _netrc file (on windows) or .netrc file (on linux) to pass NASA EarthData credentials and get S3 access;—see Tutorial 4, https://github.com/NASA-Openscapes/2021-Cloud-Hackathon/blob/main/tutorials/04_NASA_Earthdata_Authentication.ipynb ; this is needed in “def begin_s3_direct_access()” below; for direct download, it would also be needed\n",
    "1. We were working in the Amazon Cloud using the “2i2c Hub Service”:\n",
    "https://openscapes.2i2c.cloud/hub/login?next=%2Fhub%2F\n"
   ]
  },
  {
   "cell_type": "code",
   "execution_count": 7,
   "id": "becoming-receptor",
   "metadata": {},
   "outputs": [],
   "source": [
    "#Pretty sure some of these are extraneous\n",
    "import s3fs\n",
    "import os\n",
    "import os.path\n",
    "import json\n",
    "import warnings\n",
    "import requests\n",
    "import numpy as np\n",
    "import pandas as pd\n",
    "import xarray as xr\n",
    "from io import StringIO\n",
    "\n",
    "import matplotlib.pyplot as plt\n",
    "import matplotlib\n",
    "from matplotlib.ticker import FormatStrFormatter\n",
    "from matplotlib import ticker, rc, cm\n",
    "\n",
    "import cartopy.crs as ccrs\n",
    "import cartopy.feature as cfeature\n",
    "import cartopy\n",
    "\n",
<<<<<<< Updated upstream
    "#import geoviews as gv\n",
    "#import hvplot.xarray\n",
    "#import holoviews as hv\n",
    "#gv.extension('bokeh', 'matplotlib')\n",
=======
    "# import geoviews as gv\n",
    "# import hvplot.xarray\n",
    "# import holoviews as hv\n",
    "# gv.extension('bokeh', 'matplotlib')\n",
>>>>>>> Stashed changes
    "\n",
    "# warnings.filterwarnings(\"ignore\")\n",
    "\n",
    "%matplotlib inline\n",
    "# %matplotlib qt5"
   ]
  },
  {
   "cell_type": "markdown",
   "id": "ce0eaa2f-7aa1-45ab-9410-a4463cf2819b",
   "metadata": {},
   "source": [
    "## Set some parameters (start/end time)\n"
   ]
  },
  {
   "cell_type": "code",
   "execution_count": 8,
   "id": "edd07a7e-ec5b-4a05-8215-485b46c9bd7b",
   "metadata": {},
   "outputs": [],
   "source": [
    "plt.rcParams['figure.figsize'] = (5,4)\n",
    "plt.rcParams['figure.dpi'] = 300\n",
    "plt.rcParams['savefig.dpi'] = 700"
   ]
  },
  {
   "cell_type": "markdown",
   "id": "a491e721-77e5-434b-b570-ff957ee4fb77",
   "metadata": {},
   "source": [
    "## PO DAAC Catalog exploration using the CMR API\n",
    "\n",
    "- The search is restricted to colections that have data over a given time window"
   ]
  },
  {
   "cell_type": "code",
   "execution_count": 4,
   "id": "829d8272-6d5b-4dbd-9780-7c0877a5c8f1",
   "metadata": {},
   "outputs": [
    {
     "data": {
      "text/plain": [
       "'145'"
      ]
     },
     "execution_count": 4,
     "metadata": {},
     "output_type": "execute_result"
    }
   ],
   "source": [
    "provider = 'POCLOUD'\n",
    "url = 'https://cmr.earthdata.nasa.gov/search/collections.umm_json'\n",
    "response = requests.get(url,\n",
    "                        params={\n",
    "                            'cloud_hosted': 'True',\n",
    "                            'has_granules': 'True',\n",
    "                            'provider': provider,\n",
    "                            'page_size': 500,|\n",
    "                            'temporal': ['2021-10-01T10:00:00Z','2021-11-01T00:00:00Z'] \n",
    "                        },\n",
    "                        headers={\n",
    "                            'Accept': 'application/json'\n",
    "                        }\n",
    "                       )\n",
    "response.headers['cmr-hits']"
   ]
  },
  {
   "cell_type": "markdown",
   "id": "0ecdaeef-6cad-4917-a76e-1472c05e9bf0",
   "metadata": {},
   "source": [
    "### Loop through each response in the catalog and print the respective concept ID\n",
    "\n",
    "These are the data sets that cover the time period of interest"
   ]
  },
  {
   "cell_type": "code",
   "execution_count": 9,
   "id": "e9d49119-45f9-4f3c-868e-91216858f54d",
   "metadata": {},
   "outputs": [
    {
     "name": "stdout",
     "output_type": "stream",
     "text": [
      "JASON_CS_S6A_L2_ALT_LR_STD_OST_NRT_F ==>  C1968979597-POCLOUD\n",
      "MUR-JPL-L4-GLOB-v4.1 ==>  C1996881146-POCLOUD\n",
      "JASON_CS_S6A_L2_ALT_HR_STD_OST_NRT_F ==>  C1968979566-POCLOUD\n",
      "JASON_CS_S6A_L2_ALT_LR_STD_OST_STC_F ==>  C1968980609-POCLOUD\n",
      "JASON_CS_S6A_L2_ALT_HR_STD_OST_NTC_F_UNVALIDATED ==>  C1968980590-POCLOUD\n",
      "JASON_CS_S6A_L2_ALT_HR_STD_OST_STC_F ==>  C1968980583-POCLOUD\n",
      "JASON_CS_S6A_L2_ALT_LR_STD_OST_NTC_F_UNVALIDATED ==>  C1968979551-POCLOUD\n",
      "MODIS_A-JPL-L2P-v2019.0 ==>  C1940473819-POCLOUD\n",
      "MODIS_T-JPL-L2P-v2019.0 ==>  C1940475563-POCLOUD\n",
      "MUR25-JPL-L4-GLOB-v4.2 ==>  C2036880657-POCLOUD\n",
      "VIIRS_N20-OSPO-L2P-v2.61 ==>  C1996880450-POCLOUD\n",
      "VIIRS_N20-OSPO-L3U-v2.61 ==>  C2036878688-POCLOUD\n",
      "VIIRS_NPP-OSPO-L2P-v2.61 ==>  C1996880725-POCLOUD\n",
      "VIIRS_NPP-OSPO-L3U-v2.61 ==>  C2036877595-POCLOUD\n",
      "ABI_G16-STAR-L2P-v2.70 ==>  C2036877465-POCLOUD\n",
      "ABI_G16-STAR-L3C-v2.70 ==>  C2036877612-POCLOUD\n",
      "ABI_G17-STAR-L2P-v2.71 ==>  C2036877626-POCLOUD\n",
      "ABI_G17-STAR-L3C-v2.71 ==>  C2036877645-POCLOUD\n",
      "AHI_H08-STAR-L2P-v2.70 ==>  C2036877480-POCLOUD\n",
      "AHI_H08-STAR-L3C-v2.70 ==>  C2036877660-POCLOUD\n",
      "AMSR2-REMSS-L2P-v8a ==>  C2036880594-POCLOUD\n",
      "AMSR2-REMSS-L2P-v8a ==>  C2068529568-POCLOUD\n",
      "AMSR2-REMSS-L3U-v8a ==>  C2036877487-POCLOUD\n",
      "AMSR2-REMSS-L3U_RT-v8a ==>  C2108869784-POCLOUD\n",
      "ANTARCTICA_MASS_TELLUS_MASCON_CRI_TIME_SERIES_RL06_V2 ==>  C2036882023-POCLOUD\n",
      "ASCATB-L2-25km ==>  C2075141559-POCLOUD\n",
      "ASCATB-L2-Coastal ==>  C2075141605-POCLOUD\n",
      "ASCATC-L2-25km ==>  C2075141638-POCLOUD\n",
      "ASCATC-L2-Coastal ==>  C2075141684-POCLOUD\n",
      "AVHRRMTA_G-NAVO-L2P-v2.0 ==>  C2036877495-POCLOUD\n",
      "AVHRRMTB_G-NAVO-L2P-v2.0 ==>  C2036877502-POCLOUD\n",
      "AVHRRMTC_G-NAVO-L2P-v2.0 ==>  C2036877509-POCLOUD\n",
      "AVHRR_OI-NCEI-L4-GLOB-v2.1 ==>  C2036881712-POCLOUD\n",
      "AVHRR_SST_METOP_B-OSISAF-L2P-v1.0 ==>  C2036880717-POCLOUD\n",
      "AVHRR_SST_METOP_B_GLB-OSISAF-L3C-v1.0 ==>  C2036877693-POCLOUD\n",
      "AVHRR_SST_METOP_B_NAR-OSISAF-L3C-v1.0 ==>  C2036877700-POCLOUD\n",
      "CMC0.1deg-CMC-L4-GLOB-v3.0 ==>  C2036881720-POCLOUD\n",
      "CYGNSS_L1_V3.1 ==>  C2146321631-POCLOUD\n",
      "CYGNSS_L2_V3.1 ==>  C2183155461-POCLOUD\n",
      "CYGNSS_L3_V3.1 ==>  C2183149774-POCLOUD\n",
      "CYGNSS_NOAA_L2_SWSP_25KM_V1.1 ==>  C2036882072-POCLOUD\n",
      "DMI_OI-DMI-L4-GLOB-v1.0 ==>  C2036881727-POCLOUD\n",
      "GAMSSA_28km-ABOM-L4-GLOB-v01 ==>  C2036881735-POCLOUD\n",
      "GMI-REMSS-L3U-v8.2a ==>  C2036877762-POCLOUD\n",
      "GRACEFO_L1A_ASCII_GRAV_JPL_RL04 ==>  C2036882111-POCLOUD\n",
      "GRACEFO_L1B_ASCII_GRAV_JPL_RL04 ==>  C2036882118-POCLOUD\n",
      "GRACEFO_L2_CSR_MONTHLY_0060 ==>  C2036882127-POCLOUD\n",
      "GRACEFO_L2_GFZ_MONTHLY_0060 ==>  C2036882139-POCLOUD\n",
      "GRACEFO_L2_JPL_MONTHLY_0060 ==>  C2036882147-POCLOUD\n",
      "GRACE_AOD1B_GRAV_GFZ_RL06 ==>  C2036882087-POCLOUD\n",
      "GRC-GFO_GRIDDED_AOD1B_JPL_1-DEG_RL06 ==>  C2036882154-POCLOUD\n",
      "GRC-GFO_GRIDDED_AOD1B_JPL_MASCON_RL06 ==>  C2036882163-POCLOUD\n",
      "GREENLAND_MASS_TELLUS_MASCON_CRI_TIME_SERIES_RL06_V2 ==>  C2036882170-POCLOUD\n",
      "Geo_Polar_Blended-OSPO-L4-GLOB-v1.0 ==>  C2036877754-POCLOUD\n",
      "Geo_Polar_Blended_Night-OSPO-L4-GLOB-v1.0 ==>  C2036877745-POCLOUD\n",
      "IASI_SST_METOP_B-OSISAF-L2P-v1.0 ==>  C2036877829-POCLOUD\n",
      "JASON_CS_S6A_L1A_ALT_HR_NTC_F ==>  C1968980578-POCLOUD\n",
      "JASON_CS_S6A_L1A_ALT_HR_STC_F ==>  C1968979558-POCLOUD\n",
      "JASON_CS_S6A_L1B_ALT_HR_NTC_F ==>  C1968980602-POCLOUD\n",
      "JASON_CS_S6A_L1B_ALT_HR_STC_F ==>  C1968979588-POCLOUD\n",
      "JASON_CS_S6A_L1B_ALT_LR_NTC_F ==>  C1968979582-POCLOUD\n",
      "JASON_CS_S6A_L1B_ALT_LR_STC_F ==>  C1968980593-POCLOUD\n",
      "JASON_CS_S6A_L1B_GNSS_RO_POD_HOURLY ==>  C1968980589-POCLOUD\n",
      "JASON_CS_S6A_L2_ALT_HR_RED_OST_NRT_F ==>  C1968980549-POCLOUD\n",
      "JASON_CS_S6A_L2_ALT_HR_RED_OST_NTC_F_UNVALIDATED ==>  C1968980584-POCLOUD\n",
      "JASON_CS_S6A_L2_ALT_HR_RED_OST_STC_F ==>  C1968979550-POCLOUD\n",
      "JASON_CS_S6A_L2_ALT_LR_RED_OST_NRT_F ==>  C1968980576-POCLOUD\n",
      "JASON_CS_S6A_L2_ALT_LR_RED_OST_NTC_F_UNVALIDATED ==>  C1968979533-POCLOUD\n",
      "JASON_CS_S6A_L2_ALT_LR_RED_OST_STC_F ==>  C1968979561-POCLOUD\n",
      "JASON_CS_S6A_L2_AMR_RAD_NRT ==>  C1968979997-POCLOUD\n",
      "JASON_CS_S6A_L2_AMR_RAD_NTC_UNVALIDATED ==>  C1968979560-POCLOUD\n",
      "JASON_CS_S6A_L2_AMR_RAD_STC ==>  C1968979762-POCLOUD\n",
      "K10_SST-NAVO-L4-GLOB-v01 ==>  C2036881956-POCLOUD\n",
      "L3S_LEO_AM-STAR-v2.80 ==>  C2050135480-POCLOUD\n",
      "L3S_LEO_PM-STAR-v2.80 ==>  C2068704985-POCLOUD\n",
      "MODIS_AQUA_L3_SST_MID-IR_8DAY_4KM_NIGHTTIME_V2019.0 ==>  C2036881966-POCLOUD\n",
      "MODIS_AQUA_L3_SST_MID-IR_8DAY_9KM_NIGHTTIME_V2019.0 ==>  C2036877838-POCLOUD\n",
      "MODIS_AQUA_L3_SST_MID-IR_ANNUAL_4KM_NIGHTTIME_V2019.0 ==>  C2036882179-POCLOUD\n",
      "MODIS_AQUA_L3_SST_MID-IR_ANNUAL_9KM_NIGHTTIME_V2019.0 ==>  C2036877847-POCLOUD\n",
      "MODIS_AQUA_L3_SST_MID-IR_DAILY_4KM_NIGHTTIME_V2019.0 ==>  C2036881975-POCLOUD\n",
      "MODIS_AQUA_L3_SST_MID-IR_DAILY_9KM_NIGHTTIME_V2019.0 ==>  C2036877856-POCLOUD\n",
      "MODIS_AQUA_L3_SST_MID-IR_MONTHLY_4KM_NIGHTTIME_V2019.0 ==>  C2036882188-POCLOUD\n",
      "MODIS_AQUA_L3_SST_MID-IR_MONTHLY_9KM_NIGHTTIME_V2019.0 ==>  C2036877865-POCLOUD\n",
      "MODIS_AQUA_L3_SST_THERMAL_8DAY_4KM_DAYTIME_V2019.0 ==>  C2036881986-POCLOUD\n",
      "MODIS_AQUA_L3_SST_THERMAL_8DAY_4KM_NIGHTTIME_V2019.0 ==>  C2036881993-POCLOUD\n",
      "MODIS_AQUA_L3_SST_THERMAL_8DAY_9KM_DAYTIME_V2019.0 ==>  C2036877890-POCLOUD\n",
      "MODIS_AQUA_L3_SST_THERMAL_8DAY_9KM_NIGHTTIME_V2019.0 ==>  C2036877904-POCLOUD\n",
      "MODIS_AQUA_L3_SST_THERMAL_ANNUAL_4KM_DAYTIME_V2019.0 ==>  C2036882197-POCLOUD\n",
      "MODIS_AQUA_L3_SST_THERMAL_ANNUAL_4KM_NIGHTTIME_V2019.0 ==>  C2036882206-POCLOUD\n",
      "MODIS_AQUA_L3_SST_THERMAL_ANNUAL_9KM_DAYTIME_V2019.0 ==>  C2036877912-POCLOUD\n",
      "MODIS_AQUA_L3_SST_THERMAL_ANNUAL_9KM_NIGHTTIME_V2019.0 ==>  C2036877920-POCLOUD\n",
      "MODIS_AQUA_L3_SST_THERMAL_DAILY_4KM_DAYTIME_V2019.0 ==>  C2036880650-POCLOUD\n",
      "MODIS_AQUA_L3_SST_THERMAL_DAILY_4KM_NIGHTTIME_V2019.0 ==>  C2036882003-POCLOUD\n",
      "MODIS_AQUA_L3_SST_THERMAL_DAILY_9KM_DAYTIME_V2019.0 ==>  C2036877928-POCLOUD\n",
      "MODIS_AQUA_L3_SST_THERMAL_DAILY_9KM_NIGHTTIME_V2019.0 ==>  C2036877937-POCLOUD\n",
      "MODIS_AQUA_L3_SST_THERMAL_MONTHLY_4KM_DAYTIME_V2019.0 ==>  C2036882228-POCLOUD\n",
      "MODIS_AQUA_L3_SST_THERMAL_MONTHLY_4KM_NIGHTTIME_V2019.0 ==>  C2036882237-POCLOUD\n",
      "MODIS_AQUA_L3_SST_THERMAL_MONTHLY_9KM_DAYTIME_V2019.0 ==>  C2036877944-POCLOUD\n",
      "MODIS_AQUA_L3_SST_THERMAL_MONTHLY_9KM_NIGHTTIME_V2019.0 ==>  C2036877952-POCLOUD\n",
      "MODIS_TERRA_L3_SST_MID-IR_8DAY_4KM_NIGHTTIME_V2019.0 ==>  C2036882246-POCLOUD\n",
      "MODIS_TERRA_L3_SST_MID-IR_8DAY_9KM_NIGHTTIME_V2019.0 ==>  C2036877960-POCLOUD\n",
      "MODIS_TERRA_L3_SST_MID-IR_ANNUAL_4KM_NIGHTTIME_V2019.0 ==>  C2036882255-POCLOUD\n",
      "MODIS_TERRA_L3_SST_MID-IR_ANNUAL_9KM_NIGHTTIME_V2019.0 ==>  C2036877972-POCLOUD\n",
      "MODIS_TERRA_L3_SST_MID-IR_DAILY_4KM_NIGHTTIME_V2019.0 ==>  C2036882265-POCLOUD\n",
      "MODIS_TERRA_L3_SST_MID-IR_DAILY_9KM_NIGHTTIME_V2019.0 ==>  C2036877977-POCLOUD\n",
      "MODIS_TERRA_L3_SST_MID-IR_MONTHLY_4KM_NIGHTTIME_V2019.0 ==>  C2036882273-POCLOUD\n",
      "MODIS_TERRA_L3_SST_MID-IR_MONTHLY_9KM_NIGHTTIME_V2019.0 ==>  C2036877978-POCLOUD\n",
      "MODIS_TERRA_L3_SST_THERMAL_8DAY_4KM_DAYTIME_V2019.0 ==>  C2036882282-POCLOUD\n",
      "MODIS_TERRA_L3_SST_THERMAL_8DAY_4KM_NIGHTTIME_V2019.0 ==>  C2036882292-POCLOUD\n",
      "MODIS_TERRA_L3_SST_THERMAL_8DAY_9KM_DAYTIME_V2019.0 ==>  C2036877983-POCLOUD\n",
      "MODIS_TERRA_L3_SST_THERMAL_8DAY_9KM_NIGHTTIME_V2019.0 ==>  C2036877986-POCLOUD\n",
      "MODIS_TERRA_L3_SST_THERMAL_ANNUAL_4KM_DAYTIME_V2019.0 ==>  C2036882301-POCLOUD\n",
      "MODIS_TERRA_L3_SST_THERMAL_ANNUAL_4KM_NIGHTTIME_V2019.0 ==>  C2036882310-POCLOUD\n",
      "MODIS_TERRA_L3_SST_THERMAL_ANNUAL_9KM_DAYTIME_V2019.0 ==>  C2036877987-POCLOUD\n",
      "MODIS_TERRA_L3_SST_THERMAL_ANNUAL_9KM_NIGHTTIME_V2019.0 ==>  C2036877989-POCLOUD\n",
      "MODIS_TERRA_L3_SST_THERMAL_DAILY_4KM_DAYTIME_V2019.0 ==>  C2036880725-POCLOUD\n",
      "MODIS_TERRA_L3_SST_THERMAL_DAILY_4KM_NIGHTTIME_V2019.0 ==>  C2036882319-POCLOUD\n",
      "MODIS_TERRA_L3_SST_THERMAL_DAILY_9KM_DAYTIME_V2019.0 ==>  C2036877991-POCLOUD\n",
      "MODIS_TERRA_L3_SST_THERMAL_DAILY_9KM_NIGHTTIME_V2019.0 ==>  C2036877993-POCLOUD\n",
      "MODIS_TERRA_L3_SST_THERMAL_MONTHLY_4KM_DAYTIME_V2019.0 ==>  C2036882327-POCLOUD\n",
      "MODIS_TERRA_L3_SST_THERMAL_MONTHLY_4KM_NIGHTTIME_V2019.0 ==>  C2036882337-POCLOUD\n",
      "MODIS_TERRA_L3_SST_THERMAL_MONTHLY_9KM_DAYTIME_V2019.0 ==>  C2036877995-POCLOUD\n",
      "MODIS_TERRA_L3_SST_THERMAL_MONTHLY_9KM_NIGHTTIME_V2019.0 ==>  C2036878004-POCLOUD\n",
      "MW_IR_OI-REMSS-L4-GLOB-v5.0 ==>  C2036878045-POCLOUD\n",
      "MW_OI-REMSS-L4-GLOB-v5.0 ==>  C2036878052-POCLOUD\n",
      "OCEAN_MASS_TELLUS_MASCON_CRI_TIME_SERIES_RL06_V2 ==>  C2036882346-POCLOUD\n",
      "OISST_HR_NRT-GOS-L4-BLK-v2.0 ==>  C2036878059-POCLOUD\n",
      "OISST_HR_NRT-GOS-L4-MED-v2.0 ==>  C2036878073-POCLOUD\n",
      "OISST_UHR_NRT-GOS-L4-BLK-v2.0 ==>  C2036878081-POCLOUD\n",
      "OISST_UHR_NRT-GOS-L4-MED-v2.0 ==>  C2036878088-POCLOUD\n",
      "OSTIA-UKMO-L4-GLOB-v2.0 ==>  C2036877535-POCLOUD\n",
      "RAMSSA_09km-ABOM-L4-AUS-v01 ==>  C2036878103-POCLOUD\n",
      "REYNOLDS_NCDC_L4_MONTHLY_V5 ==>  C2036878116-POCLOUD\n",
      "SEA_SURFACE_HEIGHT_ALT_GRIDS_L4_2SATS_5DAY_6THDEG_V_JPL1812 ==>  C2036880672-POCLOUD\n",
      "SEVIRI_IO_SST-OSISAF-L3C-v1.0 ==>  C2036877550-POCLOUD\n",
      "SEVIRI_SST-OSISAF-L3C-v1.0 ==>  C2036878243-POCLOUD\n",
      "TELLUS_GLDAS-NOAH-3.3_TWS-ANOMALY_MONTHLY ==>  C2036877565-POCLOUD\n",
      "TELLUS_GRAC-GRFO_MASCON_CRI_GRID_RL06_V2 ==>  C1938032626-POCLOUD\n",
      "TELLUS_GRAC-GRFO_MASCON_GRID_RL06_V2 ==>  C2036882434-POCLOUD\n",
      "VIIRS_NPP-JPL-L2P-v2016.2 ==>  C1996881456-POCLOUD\n",
      "VIIRS_NPP-NAVO-L2P-v3.0 ==>  C1996881636-POCLOUD\n",
      "VIIRS_SST_NPP_NAR-OSISAF-L3C-v1.0 ==>  C2036878808-POCLOUD\n",
      "OISSS_L4_multimission_7day_v1 ==>  C2095055342-POCLOUD\n",
      "ASCATA-L2-25km ==>  C2075141524-POCLOUD\n",
      "ASCATA-L2-Coastal ==>  C1996881752-POCLOUD\n"
     ]
    }
   ],
   "source": [
    "#  This will show short names and concept ids for all PO.DAAC data sets at this time\n",
    "if True:\n",
    "    for r in response.json()['items']:\n",
    "        print('{} ==> '.format(r['meta']['s3-links'][0].split('/')[1]), r['meta']['concept-id'])"
   ]
  },
  {
   "cell_type": "markdown",
   "id": "786d684a-72a9-487f-b2f5-ccdbe62d217d",
   "metadata": {},
   "source": [
    "### Loading credentials for direct access"
   ]
  },
  {
   "cell_type": "code",
<<<<<<< Updated upstream
   "execution_count": 13,
=======
   "execution_count": 10,
>>>>>>> Stashed changes
   "id": "ce790929-ed28-484e-9806-90952f5177a3",
   "metadata": {},
   "outputs": [
    {
     "ename": "JSONDecodeError",
     "evalue": "Expecting value: line 1 column 1 (char 0)",
     "output_type": "error",
     "traceback": [
<<<<<<< Updated upstream
      "\u001b[0;31m---------------------------------------------------------------------------\u001b[0m",
      "\u001b[0;31mJSONDecodeError\u001b[0m                           Traceback (most recent call last)",
      "\u001b[0;32m/var/folders/x9/37hmb2cj4j72s26nwv19n_xh0000gn/T/ipykernel_44950/3847286015.py\u001b[0m in \u001b[0;36m<module>\u001b[0;34m\u001b[0m\n\u001b[1;32m      6\u001b[0m                              client_kwargs={'region_name':'us-west-2'})\n\u001b[1;32m      7\u001b[0m \u001b[0;34m\u001b[0m\u001b[0m\n\u001b[0;32m----> 8\u001b[0;31m \u001b[0mfs\u001b[0m \u001b[0;34m=\u001b[0m \u001b[0mbegin_s3_direct_access\u001b[0m\u001b[0;34m(\u001b[0m\u001b[0;34m)\u001b[0m\u001b[0;34m\u001b[0m\u001b[0;34m\u001b[0m\u001b[0m\n\u001b[0m\u001b[1;32m      9\u001b[0m \u001b[0;34m\u001b[0m\u001b[0m\n\u001b[1;32m     10\u001b[0m \u001b[0mtype\u001b[0m\u001b[0;34m(\u001b[0m\u001b[0mfs\u001b[0m\u001b[0;34m)\u001b[0m\u001b[0;34m\u001b[0m\u001b[0;34m\u001b[0m\u001b[0m\n",
      "\u001b[0;32m/var/folders/x9/37hmb2cj4j72s26nwv19n_xh0000gn/T/ipykernel_44950/3847286015.py\u001b[0m in \u001b[0;36mbegin_s3_direct_access\u001b[0;34m(url)\u001b[0m\n\u001b[1;32m      1\u001b[0m \u001b[0;32mdef\u001b[0m \u001b[0mbegin_s3_direct_access\u001b[0m\u001b[0;34m(\u001b[0m\u001b[0murl\u001b[0m\u001b[0;34m:\u001b[0m \u001b[0mstr\u001b[0m\u001b[0;34m=\u001b[0m\u001b[0;34m\"https://archive.podaac.earthdata.nasa.gov/s3credentials\"\u001b[0m\u001b[0;34m)\u001b[0m\u001b[0;34m:\u001b[0m\u001b[0;34m\u001b[0m\u001b[0;34m\u001b[0m\u001b[0m\n\u001b[0;32m----> 2\u001b[0;31m     \u001b[0mresponse\u001b[0m \u001b[0;34m=\u001b[0m \u001b[0mrequests\u001b[0m\u001b[0;34m.\u001b[0m\u001b[0mget\u001b[0m\u001b[0;34m(\u001b[0m\u001b[0murl\u001b[0m\u001b[0;34m)\u001b[0m\u001b[0;34m.\u001b[0m\u001b[0mjson\u001b[0m\u001b[0;34m(\u001b[0m\u001b[0;34m)\u001b[0m\u001b[0;34m\u001b[0m\u001b[0;34m\u001b[0m\u001b[0m\n\u001b[0m\u001b[1;32m      3\u001b[0m     return s3fs.S3FileSystem(key=response['accessKeyId'],\n\u001b[1;32m      4\u001b[0m                              \u001b[0msecret\u001b[0m\u001b[0;34m=\u001b[0m\u001b[0mresponse\u001b[0m\u001b[0;34m[\u001b[0m\u001b[0;34m'secretAccessKey'\u001b[0m\u001b[0;34m]\u001b[0m\u001b[0;34m,\u001b[0m\u001b[0;34m\u001b[0m\u001b[0;34m\u001b[0m\u001b[0m\n\u001b[1;32m      5\u001b[0m                              \u001b[0mtoken\u001b[0m\u001b[0;34m=\u001b[0m\u001b[0mresponse\u001b[0m\u001b[0;34m[\u001b[0m\u001b[0;34m'sessionToken'\u001b[0m\u001b[0;34m]\u001b[0m\u001b[0;34m,\u001b[0m\u001b[0;34m\u001b[0m\u001b[0;34m\u001b[0m\u001b[0m\n",
      "\u001b[0;32m~/opt/anaconda3/lib/python3.9/site-packages/requests/models.py\u001b[0m in \u001b[0;36mjson\u001b[0;34m(self, **kwargs)\u001b[0m\n\u001b[1;32m    908\u001b[0m                     \u001b[0;31m# used.\u001b[0m\u001b[0;34m\u001b[0m\u001b[0;34m\u001b[0m\u001b[0m\n\u001b[1;32m    909\u001b[0m                     \u001b[0;32mpass\u001b[0m\u001b[0;34m\u001b[0m\u001b[0;34m\u001b[0m\u001b[0m\n\u001b[0;32m--> 910\u001b[0;31m         \u001b[0;32mreturn\u001b[0m \u001b[0mcomplexjson\u001b[0m\u001b[0;34m.\u001b[0m\u001b[0mloads\u001b[0m\u001b[0;34m(\u001b[0m\u001b[0mself\u001b[0m\u001b[0;34m.\u001b[0m\u001b[0mtext\u001b[0m\u001b[0;34m,\u001b[0m \u001b[0;34m**\u001b[0m\u001b[0mkwargs\u001b[0m\u001b[0;34m)\u001b[0m\u001b[0;34m\u001b[0m\u001b[0;34m\u001b[0m\u001b[0m\n\u001b[0m\u001b[1;32m    911\u001b[0m \u001b[0;34m\u001b[0m\u001b[0m\n\u001b[1;32m    912\u001b[0m     \u001b[0;34m@\u001b[0m\u001b[0mproperty\u001b[0m\u001b[0;34m\u001b[0m\u001b[0;34m\u001b[0m\u001b[0m\n",
      "\u001b[0;32m~/opt/anaconda3/lib/python3.9/json/__init__.py\u001b[0m in \u001b[0;36mloads\u001b[0;34m(s, cls, object_hook, parse_float, parse_int, parse_constant, object_pairs_hook, **kw)\u001b[0m\n\u001b[1;32m    344\u001b[0m             \u001b[0mparse_int\u001b[0m \u001b[0;32mis\u001b[0m \u001b[0;32mNone\u001b[0m \u001b[0;32mand\u001b[0m \u001b[0mparse_float\u001b[0m \u001b[0;32mis\u001b[0m \u001b[0;32mNone\u001b[0m \u001b[0;32mand\u001b[0m\u001b[0;34m\u001b[0m\u001b[0;34m\u001b[0m\u001b[0m\n\u001b[1;32m    345\u001b[0m             parse_constant is None and object_pairs_hook is None and not kw):\n\u001b[0;32m--> 346\u001b[0;31m         \u001b[0;32mreturn\u001b[0m \u001b[0m_default_decoder\u001b[0m\u001b[0;34m.\u001b[0m\u001b[0mdecode\u001b[0m\u001b[0;34m(\u001b[0m\u001b[0ms\u001b[0m\u001b[0;34m)\u001b[0m\u001b[0;34m\u001b[0m\u001b[0;34m\u001b[0m\u001b[0m\n\u001b[0m\u001b[1;32m    347\u001b[0m     \u001b[0;32mif\u001b[0m \u001b[0mcls\u001b[0m \u001b[0;32mis\u001b[0m \u001b[0;32mNone\u001b[0m\u001b[0;34m:\u001b[0m\u001b[0;34m\u001b[0m\u001b[0;34m\u001b[0m\u001b[0m\n\u001b[1;32m    348\u001b[0m         \u001b[0mcls\u001b[0m \u001b[0;34m=\u001b[0m \u001b[0mJSONDecoder\u001b[0m\u001b[0;34m\u001b[0m\u001b[0;34m\u001b[0m\u001b[0m\n",
      "\u001b[0;32m~/opt/anaconda3/lib/python3.9/json/decoder.py\u001b[0m in \u001b[0;36mdecode\u001b[0;34m(self, s, _w)\u001b[0m\n\u001b[1;32m    335\u001b[0m \u001b[0;34m\u001b[0m\u001b[0m\n\u001b[1;32m    336\u001b[0m         \"\"\"\n\u001b[0;32m--> 337\u001b[0;31m         \u001b[0mobj\u001b[0m\u001b[0;34m,\u001b[0m \u001b[0mend\u001b[0m \u001b[0;34m=\u001b[0m \u001b[0mself\u001b[0m\u001b[0;34m.\u001b[0m\u001b[0mraw_decode\u001b[0m\u001b[0;34m(\u001b[0m\u001b[0ms\u001b[0m\u001b[0;34m,\u001b[0m \u001b[0midx\u001b[0m\u001b[0;34m=\u001b[0m\u001b[0m_w\u001b[0m\u001b[0;34m(\u001b[0m\u001b[0ms\u001b[0m\u001b[0;34m,\u001b[0m \u001b[0;36m0\u001b[0m\u001b[0;34m)\u001b[0m\u001b[0;34m.\u001b[0m\u001b[0mend\u001b[0m\u001b[0;34m(\u001b[0m\u001b[0;34m)\u001b[0m\u001b[0;34m)\u001b[0m\u001b[0;34m\u001b[0m\u001b[0;34m\u001b[0m\u001b[0m\n\u001b[0m\u001b[1;32m    338\u001b[0m         \u001b[0mend\u001b[0m \u001b[0;34m=\u001b[0m \u001b[0m_w\u001b[0m\u001b[0;34m(\u001b[0m\u001b[0ms\u001b[0m\u001b[0;34m,\u001b[0m \u001b[0mend\u001b[0m\u001b[0;34m)\u001b[0m\u001b[0;34m.\u001b[0m\u001b[0mend\u001b[0m\u001b[0;34m(\u001b[0m\u001b[0;34m)\u001b[0m\u001b[0;34m\u001b[0m\u001b[0;34m\u001b[0m\u001b[0m\n\u001b[1;32m    339\u001b[0m         \u001b[0;32mif\u001b[0m \u001b[0mend\u001b[0m \u001b[0;34m!=\u001b[0m \u001b[0mlen\u001b[0m\u001b[0;34m(\u001b[0m\u001b[0ms\u001b[0m\u001b[0;34m)\u001b[0m\u001b[0;34m:\u001b[0m\u001b[0;34m\u001b[0m\u001b[0;34m\u001b[0m\u001b[0m\n",
      "\u001b[0;32m~/opt/anaconda3/lib/python3.9/json/decoder.py\u001b[0m in \u001b[0;36mraw_decode\u001b[0;34m(self, s, idx)\u001b[0m\n\u001b[1;32m    353\u001b[0m             \u001b[0mobj\u001b[0m\u001b[0;34m,\u001b[0m \u001b[0mend\u001b[0m \u001b[0;34m=\u001b[0m \u001b[0mself\u001b[0m\u001b[0;34m.\u001b[0m\u001b[0mscan_once\u001b[0m\u001b[0;34m(\u001b[0m\u001b[0ms\u001b[0m\u001b[0;34m,\u001b[0m \u001b[0midx\u001b[0m\u001b[0;34m)\u001b[0m\u001b[0;34m\u001b[0m\u001b[0;34m\u001b[0m\u001b[0m\n\u001b[1;32m    354\u001b[0m         \u001b[0;32mexcept\u001b[0m \u001b[0mStopIteration\u001b[0m \u001b[0;32mas\u001b[0m \u001b[0merr\u001b[0m\u001b[0;34m:\u001b[0m\u001b[0;34m\u001b[0m\u001b[0;34m\u001b[0m\u001b[0m\n\u001b[0;32m--> 355\u001b[0;31m             \u001b[0;32mraise\u001b[0m \u001b[0mJSONDecodeError\u001b[0m\u001b[0;34m(\u001b[0m\u001b[0;34m\"Expecting value\"\u001b[0m\u001b[0;34m,\u001b[0m \u001b[0ms\u001b[0m\u001b[0;34m,\u001b[0m \u001b[0merr\u001b[0m\u001b[0;34m.\u001b[0m\u001b[0mvalue\u001b[0m\u001b[0;34m)\u001b[0m \u001b[0;32mfrom\u001b[0m \u001b[0;32mNone\u001b[0m\u001b[0;34m\u001b[0m\u001b[0;34m\u001b[0m\u001b[0m\n\u001b[0m\u001b[1;32m    356\u001b[0m         \u001b[0;32mreturn\u001b[0m \u001b[0mobj\u001b[0m\u001b[0;34m,\u001b[0m \u001b[0mend\u001b[0m\u001b[0;34m\u001b[0m\u001b[0;34m\u001b[0m\u001b[0m\n",
      "\u001b[0;31mJSONDecodeError\u001b[0m: Expecting value: line 1 column 1 (char 0)"
=======
      "\u001b[1;31m---------------------------------------------------------------------------\u001b[0m",
      "\u001b[1;31mJSONDecodeError\u001b[0m                           Traceback (most recent call last)",
      "\u001b[1;32m<ipython-input-10-79fb20c46fdf>\u001b[0m in \u001b[0;36m<module>\u001b[1;34m\u001b[0m\n\u001b[0;32m      6\u001b[0m                              client_kwargs={'region_name':'us-west-2'})\n\u001b[0;32m      7\u001b[0m \u001b[1;33m\u001b[0m\u001b[0m\n\u001b[1;32m----> 8\u001b[1;33m \u001b[0mfs\u001b[0m \u001b[1;33m=\u001b[0m \u001b[0mbegin_s3_direct_access\u001b[0m\u001b[1;33m(\u001b[0m\u001b[1;33m)\u001b[0m\u001b[1;33m\u001b[0m\u001b[1;33m\u001b[0m\u001b[0m\n\u001b[0m\u001b[0;32m      9\u001b[0m \u001b[1;33m\u001b[0m\u001b[0m\n\u001b[0;32m     10\u001b[0m \u001b[0mtype\u001b[0m\u001b[1;33m(\u001b[0m\u001b[0mfs\u001b[0m\u001b[1;33m)\u001b[0m\u001b[1;33m\u001b[0m\u001b[1;33m\u001b[0m\u001b[0m\n",
      "\u001b[1;32m<ipython-input-10-79fb20c46fdf>\u001b[0m in \u001b[0;36mbegin_s3_direct_access\u001b[1;34m(url)\u001b[0m\n\u001b[0;32m      1\u001b[0m \u001b[1;32mdef\u001b[0m \u001b[0mbegin_s3_direct_access\u001b[0m\u001b[1;33m(\u001b[0m\u001b[0murl\u001b[0m\u001b[1;33m:\u001b[0m \u001b[0mstr\u001b[0m\u001b[1;33m=\u001b[0m\u001b[1;34m\"https://archive.podaac.earthdata.nasa.gov/s3credentials\"\u001b[0m\u001b[1;33m)\u001b[0m\u001b[1;33m:\u001b[0m\u001b[1;33m\u001b[0m\u001b[1;33m\u001b[0m\u001b[0m\n\u001b[1;32m----> 2\u001b[1;33m     \u001b[0mresponse\u001b[0m \u001b[1;33m=\u001b[0m \u001b[0mrequests\u001b[0m\u001b[1;33m.\u001b[0m\u001b[0mget\u001b[0m\u001b[1;33m(\u001b[0m\u001b[0murl\u001b[0m\u001b[1;33m)\u001b[0m\u001b[1;33m.\u001b[0m\u001b[0mjson\u001b[0m\u001b[1;33m(\u001b[0m\u001b[1;33m)\u001b[0m\u001b[1;33m\u001b[0m\u001b[1;33m\u001b[0m\u001b[0m\n\u001b[0m\u001b[0;32m      3\u001b[0m     return s3fs.S3FileSystem(key=response['accessKeyId'],\n\u001b[0;32m      4\u001b[0m                              \u001b[0msecret\u001b[0m\u001b[1;33m=\u001b[0m\u001b[0mresponse\u001b[0m\u001b[1;33m[\u001b[0m\u001b[1;34m'secretAccessKey'\u001b[0m\u001b[1;33m]\u001b[0m\u001b[1;33m,\u001b[0m\u001b[1;33m\u001b[0m\u001b[1;33m\u001b[0m\u001b[0m\n\u001b[0;32m      5\u001b[0m                              \u001b[0mtoken\u001b[0m\u001b[1;33m=\u001b[0m\u001b[0mresponse\u001b[0m\u001b[1;33m[\u001b[0m\u001b[1;34m'sessionToken'\u001b[0m\u001b[1;33m]\u001b[0m\u001b[1;33m,\u001b[0m\u001b[1;33m\u001b[0m\u001b[1;33m\u001b[0m\u001b[0m\n",
      "\u001b[1;32m~\\anaconda3\\envs\\base2\\lib\\site-packages\\requests\\models.py\u001b[0m in \u001b[0;36mjson\u001b[1;34m(self, **kwargs)\u001b[0m\n\u001b[0;32m    898\u001b[0m                     \u001b[1;31m# used.\u001b[0m\u001b[1;33m\u001b[0m\u001b[1;33m\u001b[0m\u001b[1;33m\u001b[0m\u001b[0m\n\u001b[0;32m    899\u001b[0m                     \u001b[1;32mpass\u001b[0m\u001b[1;33m\u001b[0m\u001b[1;33m\u001b[0m\u001b[0m\n\u001b[1;32m--> 900\u001b[1;33m         \u001b[1;32mreturn\u001b[0m \u001b[0mcomplexjson\u001b[0m\u001b[1;33m.\u001b[0m\u001b[0mloads\u001b[0m\u001b[1;33m(\u001b[0m\u001b[0mself\u001b[0m\u001b[1;33m.\u001b[0m\u001b[0mtext\u001b[0m\u001b[1;33m,\u001b[0m \u001b[1;33m**\u001b[0m\u001b[0mkwargs\u001b[0m\u001b[1;33m)\u001b[0m\u001b[1;33m\u001b[0m\u001b[1;33m\u001b[0m\u001b[0m\n\u001b[0m\u001b[0;32m    901\u001b[0m \u001b[1;33m\u001b[0m\u001b[0m\n\u001b[0;32m    902\u001b[0m     \u001b[1;33m@\u001b[0m\u001b[0mproperty\u001b[0m\u001b[1;33m\u001b[0m\u001b[1;33m\u001b[0m\u001b[0m\n",
      "\u001b[1;32m~\\anaconda3\\envs\\base2\\lib\\json\\__init__.py\u001b[0m in \u001b[0;36mloads\u001b[1;34m(s, cls, object_hook, parse_float, parse_int, parse_constant, object_pairs_hook, **kw)\u001b[0m\n\u001b[0;32m    355\u001b[0m             \u001b[0mparse_int\u001b[0m \u001b[1;32mis\u001b[0m \u001b[1;32mNone\u001b[0m \u001b[1;32mand\u001b[0m \u001b[0mparse_float\u001b[0m \u001b[1;32mis\u001b[0m \u001b[1;32mNone\u001b[0m \u001b[1;32mand\u001b[0m\u001b[1;33m\u001b[0m\u001b[1;33m\u001b[0m\u001b[0m\n\u001b[0;32m    356\u001b[0m             parse_constant is None and object_pairs_hook is None and not kw):\n\u001b[1;32m--> 357\u001b[1;33m         \u001b[1;32mreturn\u001b[0m \u001b[0m_default_decoder\u001b[0m\u001b[1;33m.\u001b[0m\u001b[0mdecode\u001b[0m\u001b[1;33m(\u001b[0m\u001b[0ms\u001b[0m\u001b[1;33m)\u001b[0m\u001b[1;33m\u001b[0m\u001b[1;33m\u001b[0m\u001b[0m\n\u001b[0m\u001b[0;32m    358\u001b[0m     \u001b[1;32mif\u001b[0m \u001b[0mcls\u001b[0m \u001b[1;32mis\u001b[0m \u001b[1;32mNone\u001b[0m\u001b[1;33m:\u001b[0m\u001b[1;33m\u001b[0m\u001b[1;33m\u001b[0m\u001b[0m\n\u001b[0;32m    359\u001b[0m         \u001b[0mcls\u001b[0m \u001b[1;33m=\u001b[0m \u001b[0mJSONDecoder\u001b[0m\u001b[1;33m\u001b[0m\u001b[1;33m\u001b[0m\u001b[0m\n",
      "\u001b[1;32m~\\anaconda3\\envs\\base2\\lib\\json\\decoder.py\u001b[0m in \u001b[0;36mdecode\u001b[1;34m(self, s, _w)\u001b[0m\n\u001b[0;32m    335\u001b[0m \u001b[1;33m\u001b[0m\u001b[0m\n\u001b[0;32m    336\u001b[0m         \"\"\"\n\u001b[1;32m--> 337\u001b[1;33m         \u001b[0mobj\u001b[0m\u001b[1;33m,\u001b[0m \u001b[0mend\u001b[0m \u001b[1;33m=\u001b[0m \u001b[0mself\u001b[0m\u001b[1;33m.\u001b[0m\u001b[0mraw_decode\u001b[0m\u001b[1;33m(\u001b[0m\u001b[0ms\u001b[0m\u001b[1;33m,\u001b[0m \u001b[0midx\u001b[0m\u001b[1;33m=\u001b[0m\u001b[0m_w\u001b[0m\u001b[1;33m(\u001b[0m\u001b[0ms\u001b[0m\u001b[1;33m,\u001b[0m \u001b[1;36m0\u001b[0m\u001b[1;33m)\u001b[0m\u001b[1;33m.\u001b[0m\u001b[0mend\u001b[0m\u001b[1;33m(\u001b[0m\u001b[1;33m)\u001b[0m\u001b[1;33m)\u001b[0m\u001b[1;33m\u001b[0m\u001b[1;33m\u001b[0m\u001b[0m\n\u001b[0m\u001b[0;32m    338\u001b[0m         \u001b[0mend\u001b[0m \u001b[1;33m=\u001b[0m \u001b[0m_w\u001b[0m\u001b[1;33m(\u001b[0m\u001b[0ms\u001b[0m\u001b[1;33m,\u001b[0m \u001b[0mend\u001b[0m\u001b[1;33m)\u001b[0m\u001b[1;33m.\u001b[0m\u001b[0mend\u001b[0m\u001b[1;33m(\u001b[0m\u001b[1;33m)\u001b[0m\u001b[1;33m\u001b[0m\u001b[1;33m\u001b[0m\u001b[0m\n\u001b[0;32m    339\u001b[0m         \u001b[1;32mif\u001b[0m \u001b[0mend\u001b[0m \u001b[1;33m!=\u001b[0m \u001b[0mlen\u001b[0m\u001b[1;33m(\u001b[0m\u001b[0ms\u001b[0m\u001b[1;33m)\u001b[0m\u001b[1;33m:\u001b[0m\u001b[1;33m\u001b[0m\u001b[1;33m\u001b[0m\u001b[0m\n",
      "\u001b[1;32m~\\anaconda3\\envs\\base2\\lib\\json\\decoder.py\u001b[0m in \u001b[0;36mraw_decode\u001b[1;34m(self, s, idx)\u001b[0m\n\u001b[0;32m    353\u001b[0m             \u001b[0mobj\u001b[0m\u001b[1;33m,\u001b[0m \u001b[0mend\u001b[0m \u001b[1;33m=\u001b[0m \u001b[0mself\u001b[0m\u001b[1;33m.\u001b[0m\u001b[0mscan_once\u001b[0m\u001b[1;33m(\u001b[0m\u001b[0ms\u001b[0m\u001b[1;33m,\u001b[0m \u001b[0midx\u001b[0m\u001b[1;33m)\u001b[0m\u001b[1;33m\u001b[0m\u001b[1;33m\u001b[0m\u001b[0m\n\u001b[0;32m    354\u001b[0m         \u001b[1;32mexcept\u001b[0m \u001b[0mStopIteration\u001b[0m \u001b[1;32mas\u001b[0m \u001b[0merr\u001b[0m\u001b[1;33m:\u001b[0m\u001b[1;33m\u001b[0m\u001b[1;33m\u001b[0m\u001b[0m\n\u001b[1;32m--> 355\u001b[1;33m             \u001b[1;32mraise\u001b[0m \u001b[0mJSONDecodeError\u001b[0m\u001b[1;33m(\u001b[0m\u001b[1;34m\"Expecting value\"\u001b[0m\u001b[1;33m,\u001b[0m \u001b[0ms\u001b[0m\u001b[1;33m,\u001b[0m \u001b[0merr\u001b[0m\u001b[1;33m.\u001b[0m\u001b[0mvalue\u001b[0m\u001b[1;33m)\u001b[0m \u001b[1;32mfrom\u001b[0m \u001b[1;32mNone\u001b[0m\u001b[1;33m\u001b[0m\u001b[1;33m\u001b[0m\u001b[0m\n\u001b[0m\u001b[0;32m    356\u001b[0m         \u001b[1;32mreturn\u001b[0m \u001b[0mobj\u001b[0m\u001b[1;33m,\u001b[0m \u001b[0mend\u001b[0m\u001b[1;33m\u001b[0m\u001b[1;33m\u001b[0m\u001b[0m\n",
      "\u001b[1;31mJSONDecodeError\u001b[0m: Expecting value: line 1 column 1 (char 0)"
>>>>>>> Stashed changes
     ]
    }
   ],
   "source": [
    "def begin_s3_direct_access(url: str=\"https://archive.podaac.earthdata.nasa.gov/s3credentials\"):\n",
    "    response = requests.get(url).json()\n",
    "    return s3fs.S3FileSystem(key=response['accessKeyId'],\n",
    "                             secret=response['secretAccessKey'],\n",
    "                             token=response['sessionToken'],\n",
    "                             client_kwargs={'region_name':'us-west-2'})\n",
    "\n",
    "fs = begin_s3_direct_access()\n",
    "\n",
    "type(fs)"
   ]
  },
  {
   "cell_type": "code",
   "execution_count": null,
   "id": "4988c841-cdc3-4700-b99f-e450e3108b59",
   "metadata": {},
   "outputs": [],
   "source": [
    "# Center location\n",
    "site = 'S-MODE'\n",
    "\n",
    "if site == 'S-MODE':\n",
    "    lon0 = -123.5\n",
    "    lat0 = 37.5 \n",
    "    dlon = 2.5 # half of box width in lon\n",
    "    dlat = 1.5 # half of box width in lat\n",
    "elif site == 'SPURS-2':\n",
    "    lon0 = -125\n",
    "    lat0 = 10\n",
    "    dlon = 1.5 # half of box width in lon\n",
    "    dlat = 1.5 # half of box width in lat\n",
    "elif site == 'SPURS-2':\n",
    "    lon0 = -38\n",
    "    lat0 = 25\n",
    "    dlon = 1.5 # half of box width in lon\n",
    "    dlat = 1.5 # half of box width in lat\n",
    "\n",
    "# Define the max/min lon\n",
    "lon_min = lon0 - dlon\n",
    "lon_max = lon0 + dlon\n",
    "lat_min = lat0 - dlat\n",
    "lat_max = lat0 + dlat"
   ]
  },
  {
   "cell_type": "code",
   "execution_count": 7,
   "id": "54c3850c-793a-48dc-9237-9edb6c43d16c",
   "metadata": {},
   "outputs": [],
   "source": [
    "if site == 'S-MODE':\n",
    "    start_time = '2021-10-20T00:00:00Z'\n",
    "    end_time = '2021-11-6T00:00:00Z'\n",
    "elif site == 'SPURS-2':\n",
    "    start_time = '2016-8-20T00:00:00Z'\n",
    "    end_time = '2017-11-6T00:00:00Z'\n",
    "elif site == 'SPURS-2':\n",
    "    start_time = '2012-9-15T00:00:00Z'\n",
    "    end_time = '2013-11-15T00:00:00Z'\n",
    "\n"
   ]
  },
  {
   "cell_type": "code",
   "execution_count": 8,
   "id": "d7d8468f-4e59-4082-a5ac-b531352cc384",
   "metadata": {},
   "outputs": [
    {
     "name": "stdout",
     "output_type": "stream",
     "text": [
      "<Response [200]>\n",
      "94\n"
     ]
    }
   ],
   "source": [
    "url = 'https://cmr.earthdata.nasa.gov/search/granules'\n",
    "\n",
    "# VIIRS_NPP-OSPO-L2P-v2.61 ==>  C1996880725-POCLOUD\n",
    "concept_id = 'C2036880650-POCLOUD' #  MODIS\n",
    "# concept_id = 'C1996880725-POCLOUD' # VIIRS_NPP-OSPO-L2P-v2.61 \n",
    "concept_id = 'C2036877595-POCLOUD' # VIIRS_NPP-OSPO-L3U-v2.61 \n",
    "response = requests.get(url, \n",
    "                        params={\n",
    "                            'concept_id': concept_id,\n",
    "                            'temporal': start_time+','+end_time,\n",
    "                            'bounding_box': '{},{},{},{}'.format(lon_min, lat_min, lon_max, lat_max),    \n",
    "                            'page_size': 500,\n",
    "                            },\n",
    "                        headers={\n",
    "                            'Accept': 'application/json'\n",
    "                            }\n",
    "                       )\n",
    "print(response)\n",
    "print(response.headers['CMR-Hits'])"
   ]
  },
  {
   "cell_type": "code",
   "execution_count": 9,
   "id": "69d38858-442d-4ba1-a11d-9632e12b6de0",
   "metadata": {},
   "outputs": [
    {
     "data": {
      "text/plain": [
       "94"
      ]
     },
     "execution_count": 9,
     "metadata": {},
     "output_type": "execute_result"
    }
   ],
   "source": [
    "granules_url = []\n",
    "for gran in response.json()['feed']['entry']:\n",
    "    granules_url.append(gran['links'][0]['href'])\n",
    "# granules_url\n",
    "len(granules_url)"
   ]
  },
  {
   "cell_type": "code",
   "execution_count": 10,
   "id": "7205bb16-4ac3-4ad0-bcb7-2ab93166de82",
   "metadata": {},
   "outputs": [],
   "source": [
    "gran;"
   ]
  },
  {
   "cell_type": "markdown",
   "id": "9b954d73-7a32-4ca5-9d69-4aadddab6e3b",
   "metadata": {},
   "source": [
    "## Plot all SST images available during the S-MODE windows and pick good days"
   ]
  },
  {
   "cell_type": "markdown",
   "id": "23849526-0d73-4438-b720-5ecb5d72181c",
   "metadata": {},
   "source": [
    "Load in the data with xarray.open_mfdataset().  The one trick for the s3 access here is to use list comprehension to modify the list of granule URLs into a list of open s3 files before passing to xr.open_mfdataset().  \n",
    "\n",
    "_(Is that description correct??)_"
   ]
  },
  {
   "cell_type": "code",
   "execution_count": 11,
   "id": "4d777b3b-a4e6-4f53-a5c1-5515a83d5668",
   "metadata": {},
   "outputs": [],
   "source": [
    "# This loads a single file\n",
    "# ds = xr.open_dataset(fs.open(granules_url[1]),drop_variables=['dt_analysis','satellite_zenith_angle','sses_bias','wind speed']).sel(lon=slice(lon_min,lon_max), lat=slice(lat_max,lat_min))"
   ]
  },
  {
   "cell_type": "code",
   "execution_count": 12,
   "id": "6f33ca53-f2fa-4fb2-9cc2-da80805a500f",
   "metadata": {},
   "outputs": [
    {
     "ename": "NameError",
     "evalue": "name 'fs' is not defined",
     "output_type": "error",
     "traceback": [
      "\u001b[0;31m---------------------------------------------------------------------------\u001b[0m",
      "\u001b[0;31mNameError\u001b[0m                                 Traceback (most recent call last)",
      "\u001b[0;32m/var/folders/x9/37hmb2cj4j72s26nwv19n_xh0000gn/T/ipykernel_44950/2691067011.py\u001b[0m in \u001b[0;36m<module>\u001b[0;34m\u001b[0m\n\u001b[0;32m----> 1\u001b[0;31m \u001b[0mfile_list\u001b[0m \u001b[0;34m=\u001b[0m  \u001b[0;34m[\u001b[0m\u001b[0mfs\u001b[0m\u001b[0;34m.\u001b[0m\u001b[0mopen\u001b[0m\u001b[0;34m(\u001b[0m\u001b[0mfile\u001b[0m\u001b[0;34m)\u001b[0m \u001b[0;32mfor\u001b[0m \u001b[0mfile\u001b[0m \u001b[0;32min\u001b[0m \u001b[0mgranules_url\u001b[0m\u001b[0;34m]\u001b[0m\u001b[0;34m\u001b[0m\u001b[0;34m\u001b[0m\u001b[0m\n\u001b[0m\u001b[1;32m      2\u001b[0m \u001b[0mds\u001b[0m \u001b[0;34m=\u001b[0m \u001b[0mxr\u001b[0m\u001b[0;34m.\u001b[0m\u001b[0mopen_mfdataset\u001b[0m\u001b[0;34m(\u001b[0m\u001b[0mfile_list\u001b[0m\u001b[0;34m,\u001b[0m\u001b[0mdrop_variables\u001b[0m\u001b[0;34m=\u001b[0m\u001b[0;34m[\u001b[0m\u001b[0;34m'dt_analysis'\u001b[0m\u001b[0;34m,\u001b[0m\u001b[0;34m'satellite_zenith_angle'\u001b[0m\u001b[0;34m,\u001b[0m\u001b[0;34m'sses_bias'\u001b[0m\u001b[0;34m,\u001b[0m\u001b[0;34m'wind speed'\u001b[0m\u001b[0;34m]\u001b[0m\u001b[0;34m)\u001b[0m\u001b[0;34m.\u001b[0m\u001b[0msel\u001b[0m\u001b[0;34m(\u001b[0m\u001b[0mlon\u001b[0m\u001b[0;34m=\u001b[0m\u001b[0mslice\u001b[0m\u001b[0;34m(\u001b[0m\u001b[0mlon_min\u001b[0m\u001b[0;34m,\u001b[0m\u001b[0mlon_max\u001b[0m\u001b[0;34m)\u001b[0m\u001b[0;34m,\u001b[0m \u001b[0mlat\u001b[0m\u001b[0;34m=\u001b[0m\u001b[0mslice\u001b[0m\u001b[0;34m(\u001b[0m\u001b[0mlat_max\u001b[0m\u001b[0;34m,\u001b[0m\u001b[0mlat_min\u001b[0m\u001b[0;34m)\u001b[0m\u001b[0;34m)\u001b[0m\u001b[0;34m\u001b[0m\u001b[0;34m\u001b[0m\u001b[0m\n",
      "\u001b[0;32m/var/folders/x9/37hmb2cj4j72s26nwv19n_xh0000gn/T/ipykernel_44950/2691067011.py\u001b[0m in \u001b[0;36m<listcomp>\u001b[0;34m(.0)\u001b[0m\n\u001b[0;32m----> 1\u001b[0;31m \u001b[0mfile_list\u001b[0m \u001b[0;34m=\u001b[0m  \u001b[0;34m[\u001b[0m\u001b[0mfs\u001b[0m\u001b[0;34m.\u001b[0m\u001b[0mopen\u001b[0m\u001b[0;34m(\u001b[0m\u001b[0mfile\u001b[0m\u001b[0;34m)\u001b[0m \u001b[0;32mfor\u001b[0m \u001b[0mfile\u001b[0m \u001b[0;32min\u001b[0m \u001b[0mgranules_url\u001b[0m\u001b[0;34m]\u001b[0m\u001b[0;34m\u001b[0m\u001b[0;34m\u001b[0m\u001b[0m\n\u001b[0m\u001b[1;32m      2\u001b[0m \u001b[0mds\u001b[0m \u001b[0;34m=\u001b[0m \u001b[0mxr\u001b[0m\u001b[0;34m.\u001b[0m\u001b[0mopen_mfdataset\u001b[0m\u001b[0;34m(\u001b[0m\u001b[0mfile_list\u001b[0m\u001b[0;34m,\u001b[0m\u001b[0mdrop_variables\u001b[0m\u001b[0;34m=\u001b[0m\u001b[0;34m[\u001b[0m\u001b[0;34m'dt_analysis'\u001b[0m\u001b[0;34m,\u001b[0m\u001b[0;34m'satellite_zenith_angle'\u001b[0m\u001b[0;34m,\u001b[0m\u001b[0;34m'sses_bias'\u001b[0m\u001b[0;34m,\u001b[0m\u001b[0;34m'wind speed'\u001b[0m\u001b[0;34m]\u001b[0m\u001b[0;34m)\u001b[0m\u001b[0;34m.\u001b[0m\u001b[0msel\u001b[0m\u001b[0;34m(\u001b[0m\u001b[0mlon\u001b[0m\u001b[0;34m=\u001b[0m\u001b[0mslice\u001b[0m\u001b[0;34m(\u001b[0m\u001b[0mlon_min\u001b[0m\u001b[0;34m,\u001b[0m\u001b[0mlon_max\u001b[0m\u001b[0;34m)\u001b[0m\u001b[0;34m,\u001b[0m \u001b[0mlat\u001b[0m\u001b[0;34m=\u001b[0m\u001b[0mslice\u001b[0m\u001b[0;34m(\u001b[0m\u001b[0mlat_max\u001b[0m\u001b[0;34m,\u001b[0m\u001b[0mlat_min\u001b[0m\u001b[0;34m)\u001b[0m\u001b[0;34m)\u001b[0m\u001b[0;34m\u001b[0m\u001b[0;34m\u001b[0m\u001b[0m\n",
      "\u001b[0;31mNameError\u001b[0m: name 'fs' is not defined"
     ]
    }
   ],
   "source": [
    "file_list =  [fs.open(file) for file in granules_url]\n",
    "ds = xr.open_mfdataset(file_list,drop_variables=['dt_analysis','satellite_zenith_angle','sses_bias','wind speed']).sel(lon=slice(lon_min,lon_max), lat=slice(lat_max,lat_min))"
   ]
  },
  {
   "cell_type": "code",
   "execution_count": null,
   "id": "994b10a2-f861-4104-9368-1739cb9047f5",
   "metadata": {},
   "outputs": [],
   "source": [
    "#  Plot the whole timeseries with hvplot\n",
    "\n",
    "sst = ds.sea_surface_temperature-273.15\n",
    "sst.hvplot(groupby='time', width=600, height=400, clim=(10, 20), cmap='plasma')"
   ]
  },
  {
   "cell_type": "markdown",
   "id": "d922f7c8-bf18-4523-9e64-ef9c42092549",
   "metadata": {},
   "source": [
    "As expected, there are lots of times with no useful data.  (There is an interactive plot above, but it may not render in a static view.)"
   ]
  },
  {
   "cell_type": "markdown",
   "id": "8cea724c-0be0-4e04-bcac-6cbab70f1c73",
   "metadata": {},
   "source": [
    "## Make a metric to select times with clear skies in region of interest\n",
    "\n",
    "The idea here is to choose a box defining region of interest and use quality flag or NaN mask to count bad/good pixels\n"
   ]
  },
  {
   "cell_type": "code",
   "execution_count": null,
   "id": "bab89499-2cca-47e5-a375-f4f4a1dee16c",
   "metadata": {},
   "outputs": [],
   "source": [
    "# Define a box where we want data (may be different than larger analysis domain)\n",
    "# Still centered on lon0,lat0\n",
    "dlon = 0.5 # half of box width in lon\n",
    "dlat = 0.5 # half of box width in lat\n",
    "\n",
    "# Define the max/min lon\n",
    "x1 = lon0 - dlon\n",
    "x2 = lon0 + dlon\n",
    "y1 = lat0 - dlat\n",
    "y2 = lat0 + dlat"
   ]
  },
  {
   "cell_type": "code",
   "execution_count": null,
   "id": "31717cb0-215f-486c-95e0-df400b850d15",
   "metadata": {},
   "outputs": [],
   "source": [
    "# Make a time series in that box\n",
    "# Compute mean value of \"not NaN\" (notnull) in the box\n",
    "good_data = ds.sea_surface_temperature.sel(lat=slice(y2,y1), lon=slice(x1,x2)).notnull().mean({'lon','lat'})\n",
    "np.shape(good_data)"
   ]
  },
  {
   "cell_type": "code",
   "execution_count": null,
   "id": "aae6caf8-992c-44fb-994f-3378213b59bc",
   "metadata": {},
   "outputs": [],
   "source": [
    "fig = plt.figure(figsize=(4,3),dpi=200)\n",
    "plt.plot(good_data['time'],good_data,marker='o')\n",
    "fig.autofmt_xdate()\n",
    "plt.title('Values near 1 indicate clear skies')"
   ]
  },
  {
   "cell_type": "code",
   "execution_count": null,
   "id": "ba86b3cc-6613-4e5e-a663-e971de6c669f",
   "metadata": {},
   "outputs": [],
   "source": [
    "good_times = good_data['time'].where(good_data>0.95,drop=True)\n",
    "np.shape(good_times)"
   ]
  },
  {
   "cell_type": "code",
   "execution_count": null,
   "id": "327267f2-38c3-4a10-b09a-a4f2e65f671f",
   "metadata": {},
   "outputs": [],
   "source": [
    "good_times[-1].values"
   ]
  },
  {
   "cell_type": "markdown",
   "id": "9764efd1-6c87-4d30-bf80-13d7e19d3657",
   "metadata": {},
   "source": [
    "## Choose a particular time\n"
   ]
  },
  {
   "cell_type": "code",
   "execution_count": null,
   "id": "b22ddc94-059a-4026-b605-4b63c9aa1ea9",
   "metadata": {},
   "outputs": [],
   "source": [
    "# Find the data near this time\n",
    "d = good_times[-1] # np.datetime64('2021-11-05T00:00:00Z')"
   ]
  },
  {
   "cell_type": "code",
   "execution_count": null,
   "id": "a2e1ba62-4f5a-4f39-8156-febdf8c2d8de",
   "metadata": {},
   "outputs": [],
   "source": [
    "ds2 = ds.sel(time=d,method='nearest')"
   ]
  },
  {
   "cell_type": "code",
   "execution_count": null,
   "id": "0f24c905-b890-4b24-a60f-a33cbd8560ff",
   "metadata": {},
   "outputs": [],
   "source": [
    "# This string of the time of the SST selected will be useful\n",
    "day_str = np.datetime_as_string(ds2.time,unit='m')"
   ]
  },
  {
   "cell_type": "code",
   "execution_count": null,
   "id": "05187dc7-a2da-4326-96c9-820ec64baaf5",
   "metadata": {},
   "outputs": [],
   "source": [
    "fig = plt.figure()\n",
    "ax = plt.axes(projection = ccrs.PlateCarree(central_longitude=-125))  # Orthographic\n",
    "extent = [lon_min, lon_max,lat_min, lat_max]\n",
    "ax.set_extent(extent, crs=ccrs.PlateCarree())\n",
    "\n",
    "\n",
    "plt.set_cmap(cmap=plt.get_cmap('turbo'))\n",
    "gl = ax.gridlines(draw_labels=True, dms=True, x_inline=False, y_inline=False, alpha=0.5, linestyle='--')\n",
    "gl.top_labels = False\n",
    "gl.right_labels = False\n",
    "ax.set_title('SST, ' + day_str, size = 10.)\n",
    "\n",
    "ax.coastlines()\n",
    "ax.add_feature(cartopy.feature.LAND, zorder=3, facecolor=[.6,.6,.6], edgecolor='black')\n",
    "cs = ax.pcolormesh(ds2.lon,ds2.lat,ds2.sea_surface_temperature.squeeze()-274.15,vmin=12.5,vmax=15,transform=ccrs.PlateCarree())\n",
    "# cs = ax.pcolormesh(ds2.lon,ds2.lat,ds2.sea_surface_temperature.squeeze().notnull(),transform=ccrs.PlateCarree())\n",
    "cb = plt.colorbar(cs,fraction = 0.022,extend='both')\n",
    "cb.set_label('SST [$\\circ$C]',fontsize = 10)\n"
   ]
  },
  {
   "cell_type": "code",
   "execution_count": null,
   "id": "3394ae69-1fa2-4f13-87aa-75857788df81",
   "metadata": {},
   "outputs": [],
   "source": []
  }
 ],
 "metadata": {
  "kernelspec": {
   "display_name": "Python 3",
   "language": "python",
   "name": "python3"
  },
  "language_info": {
   "codemirror_mode": {
    "name": "ipython",
    "version": 3
   },
   "file_extension": ".py",
   "mimetype": "text/x-python",
   "name": "python",
   "nbconvert_exporter": "python",
   "pygments_lexer": "ipython3",
   "version": "3.8.6"
  }
 },
 "nbformat": 4,
 "nbformat_minor": 5
}
