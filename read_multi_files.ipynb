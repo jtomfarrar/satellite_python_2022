{
 "cells": [
  {
   "cell_type": "code",
   "execution_count": null,
   "metadata": {},
   "outputs": [],
   "source": []
  },
  {
   "cell_type": "code",
   "execution_count": null,
   "metadata": {},
   "outputs": [],
   "source": []
  },
  {
   "cell_type": "code",
   "execution_count": 1,
   "metadata": {},
   "outputs": [],
   "source": [
    "import glob"
   ]
  },
  {
   "cell_type": "code",
   "execution_count": 2,
   "metadata": {},
   "outputs": [],
   "source": [
    "#Define path using the r prefix (which means raw string so that special character / should not be evaluated)\n",
    "path_dir: str = r\"C:\\D_drive\\aviso_along_track\\2020_CMEMS\\dataset-duacs-rep-global-j1-phy-l3\"\n",
    "\n",
    "# Get a list of all .nc files available in different folders\n",
    "filenames = glob.glob(path_dir+r\"\\*\\*\\*.nc\")"
   ]
  },
  {
   "cell_type": "code",
   "execution_count": 7,
   "metadata": {},
   "outputs": [
    {
     "name": "stdout",
     "output_type": "stream",
     "text": [
      "C:\\D_drive\\aviso_along_track\\2020_CMEMS\\dataset-duacs-rep-global-j1-phy-l3\\2005\\01\\dt_global_j1_phy_l3_20050131_20190101.nc\n",
      "\n",
      "2316\n"
     ]
    }
   ],
   "source": [
    "counter=0\n",
    "for file in filenames:\n",
    "    counter = counter +1\n",
    "    if counter==1000:\n",
    "        print(file)\n",
    "        \n",
    "\n",
    "print('\\n' + str(counter))"
   ]
  },
  {
   "cell_type": "code",
   "execution_count": null,
   "metadata": {},
   "outputs": [],
   "source": []
  }
 ],
 "metadata": {
  "kernelspec": {
   "display_name": "Python 3",
   "language": "python",
   "name": "python3"
  },
  "language_info": {
   "codemirror_mode": {
    "name": "ipython",
    "version": 3
   },
   "file_extension": ".py",
   "mimetype": "text/x-python",
   "name": "python",
   "nbconvert_exporter": "python",
   "pygments_lexer": "ipython3",
   "version": "3.8.6"
  }
 },
 "nbformat": 4,
 "nbformat_minor": 4
}
